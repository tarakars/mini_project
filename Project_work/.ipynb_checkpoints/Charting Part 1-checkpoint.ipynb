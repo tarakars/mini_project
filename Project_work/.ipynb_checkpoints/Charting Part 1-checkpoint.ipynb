{
 "cells": [
  {
   "cell_type": "code",
   "execution_count": 1,
   "metadata": {
    "collapsed": true
   },
   "outputs": [],
   "source": [
    "import csv\n",
    "import os\n",
    "import pandas as pd\n",
    "import matplotlib.pyplot as plt\n",
    "import numpy as np"
   ]
  },
  {
   "cell_type": "code",
   "execution_count": 2,
   "metadata": {
    "collapsed": true
   },
   "outputs": [],
   "source": [
    "National_data_2013 = 'C:/Users/harna/mini_project/Project_work/Raw_Data_National/National_Data_2013.xlsx'\n",
    "National_data_2014 = 'C:/Users/harna/mini_project/Project_work/Raw_Data_National/National_Data_2014.xlsx'\n",
    "National_data_2015=  'C:/Users/harna/mini_project/Project_work/Raw_Data_National/National_Data_2015.xlsx'\n",
    "National_data_2016 = 'C:/Users/harna/mini_project/Project_work/Raw_Data_National/National_Data_2016.xlsx'\n",
    "National_data_2017 = 'C:/Users/harna/mini_project/Project_work/Raw_Data_National/National_Data_2017.xlsx'\n",
    "state_data_2013 = 'C:/Users/harna/mini_project/Project_work/Raw_Data_State/State_data_2013.xlsx'\n",
    "state_data_2014 = 'C:/Users/harna/mini_project/Project_work/Raw_Data_State/State_data_2014.xlsx'\n",
    "state_data_2015=  'C:/Users/harna/mini_project/Project_work/Raw_Data_State/State_data_2015.xlsx'\n",
    "state_data_2016 = 'C:/Users/harna/mini_project/Project_work/Raw_Data_State/State_data_2016.xlsx'\n",
    "state_data_2017 = 'C:/Users/harna/mini_project/Project_work/Raw_Data_State/State_data_2017.xlsx'\n",
    "predict = 'C:/Users/harna/mini_project/Project_work/Tenyear_prediction.xlsx'"
   ]
  },
  {
   "cell_type": "code",
   "execution_count": 3,
   "metadata": {},
   "outputs": [],
   "source": [
    "National_2013_df = pd.read_excel(National_data_2013)\n",
    "National_2014_df = pd.read_excel(National_data_2014)\n",
    "National_2015_df = pd.read_excel(National_data_2015)\n",
    "National_2016_df = pd.read_excel(National_data_2016)\n",
    "National_2017_df = pd.read_excel(National_data_2017)\n",
    "state_2013_df = pd.read_excel(state_data_2013)\n",
    "state_2014_df = pd.read_excel(state_data_2014)\n",
    "state_2015_df = pd.read_excel(state_data_2015)\n",
    "state_2016_df = pd.read_excel(state_data_2016)\n",
    "state_2017_df = pd.read_excel(state_data_2017)\n",
    "predicts = pd.read_excel(predict)"
   ]
  },
  {
   "cell_type": "code",
   "execution_count": 4,
   "metadata": {
    "collapsed": true
   },
   "outputs": [],
   "source": [
    "National_2013_copy_df = National_2013_df.dropna(axis=1, how='all')\n",
    "National_2014_copy_df = National_2014_df.dropna(axis=1, how='all')\n",
    "National_2015_copy_df = National_2015_df.dropna(axis=1, how='all')\n",
    "National_2016_copy_df = National_2016_df.dropna(axis=1, how='all')\n",
    "National_2017_copy_df = National_2017_df.dropna(axis=1, how='all')\n",
    "state_2013_copy_df = state_2013_df.dropna(axis=1, how='all')\n",
    "state_2014_copy_df = state_2014_df.dropna(axis=1, how='all')\n",
    "state_2015_copy_df = state_2015_df.dropna(axis=1, how='all')\n",
    "state_2016_copy_df = state_2016_df.dropna(axis=1, how='all')\n",
    "state_2017_copy_df = state_2017_df.dropna(axis=1, how='all')\n",
    "predict_df = predicts.dropna(axis=1, how='all')"
   ]
  },
  {
   "cell_type": "code",
   "execution_count": 5,
   "metadata": {
    "collapsed": true
   },
   "outputs": [],
   "source": [
    "tot_emp_2017 = National_2017_copy_df[\"TOT_EMP\"].sum()\n",
    "tot_emp_2016 = National_2016_copy_df[\"TOT_EMP\"].sum()\n",
    "tot_emp_2015 = National_2015_copy_df[\"TOT_EMP\"].sum()\n",
    "tot_emp_2014 = National_2014_copy_df[\"TOT_EMP\"].sum()\n",
    "tot_emp_2013 = National_2013_copy_df[\"TOT_EMP\"].sum()\n",
    "total_emp_year = [tot_emp_2017,tot_emp_2016,tot_emp_2015,tot_emp_2014,tot_emp_2013]\n",
    "\n",
    "annual_average_2017 = National_2017_copy_df[\"A_MEAN\"].mean()\n",
    "annaul_average_2016 = National_2016_copy_df[\"A_MEAN\"].mean()\n",
    "annual_average_2015 = National_2015_copy_df[\"A_MEAN\"].mean()\n",
    "annual_average_2014 = National_2014_copy_df[\"A_MEAN\"].mean()\n",
    "annaul_average_2013 = National_2013_copy_df[\"A_MEAN\"].mean()\n",
    "annual_average_pay = [annual_average_2017,annaul_average_2016,annual_average_2015,annual_average_2014,annaul_average_2013]\n",
    "\n",
    "\n",
    "hourly_average_2017 = National_2017_copy_df[\"H_MEAN\"].mean()\n",
    "hourly_average_2016 = National_2016_copy_df[\"H_MEAN\"].mean()\n",
    "hourly_average_2015 = National_2015_copy_df[\"H_MEAN\"].mean()\n",
    "hourly_average_2014 = National_2014_copy_df[\"H_MEAN\"].mean()\n",
    "hourly_average_2013 = National_2013_copy_df[\"H_MEAN\"].mean()\n",
    "hourly_average_pay = [hourly_average_2017,hourly_average_2016,hourly_average_2015,hourly_average_2014,hourly_average_2013]\n",
    "\n",
    "hourly_10p_2017 = National_2017_copy_df[\"H_PCT10\"].mean()\n",
    "hourly_10p_2016 = National_2016_copy_df[\"H_PCT10\"].mean()\n",
    "hourly_10p_2015 = National_2015_copy_df[\"H_PCT10\"].mean()\n",
    "hourly_10p_2014 = National_2014_copy_df[\"H_PCT10\"].mean()\n",
    "hourly_10p_2013 = National_2013_copy_df[\"H_PCT10\"].mean()\n",
    "hourly_10p_pay = [hourly_10p_2017,hourly_10p_2016,hourly_10p_2015,hourly_10p_2014,hourly_10p_2013]\n",
    "\n",
    "annual_10p_2017 = National_2017_copy_df[\"A_PCT10\"].mean()\n",
    "annual_10p_2016 = National_2016_copy_df[\"A_PCT10\"].mean()\n",
    "annual_10p_2015 = National_2015_copy_df[\"A_PCT10\"].mean()\n",
    "annual_10p_2014 = National_2014_copy_df[\"A_PCT10\"].mean()\n",
    "annual_10p_2013 = National_2013_copy_df[\"A_PCT10\"].mean()\n",
    "annual_10p_pay = [annual_10p_2017,annual_10p_2016,annual_10p_2015,annual_10p_2014,annual_10p_2013]\n",
    "\n",
    "hourly_25p_2017 = National_2017_copy_df[\"H_PCT25\"].mean()\n",
    "hourly_25p_2016 = National_2016_copy_df[\"H_PCT25\"].mean()\n",
    "hourly_25p_2015 = National_2015_copy_df[\"H_PCT25\"].mean()\n",
    "hourly_25p_2014 = National_2014_copy_df[\"H_PCT25\"].mean()\n",
    "hourly_25p_2013 = National_2013_copy_df[\"H_PCT25\"].mean()\n",
    "hourly_25p_pay = [hourly_25p_2017,hourly_25p_2016,hourly_25p_2015,hourly_25p_2014,hourly_25p_2013]\n",
    "annual_25p_2017 = National_2017_copy_df[\"A_PCT25\"].mean()\n",
    "annual_25p_2016 = National_2016_copy_df[\"A_PCT25\"].mean()\n",
    "annual_25p_2015 = National_2015_copy_df[\"A_PCT25\"].mean()\n",
    "annual_25p_2014 = National_2014_copy_df[\"A_PCT25\"].mean()\n",
    "annual_25p_2013 = National_2013_copy_df[\"A_PCT25\"].mean()\n",
    "annual_25p_pay = [annual_25p_2017,annual_25p_2016,annual_25p_2015,annual_25p_2014,annual_25p_2013]\n",
    "\n",
    "\n",
    "hourly_50p_2017 = National_2017_copy_df[\"H_MEDIAN\"].mean()\n",
    "hourly_50p_2016 = National_2016_copy_df[\"H_MEDIAN\"].mean()\n",
    "hourly_50p_2015 = National_2015_copy_df[\"H_MEDIAN\"].mean()\n",
    "hourly_50p_2014 = National_2014_copy_df[\"H_MEDIAN\"].mean()\n",
    "hourly_50p_2013 = National_2013_copy_df[\"H_MEDIAN\"].mean()\n",
    "hourly_50p_pay = [hourly_50p_2017,hourly_50p_2016,hourly_50p_2015,hourly_50p_2014,hourly_50p_2013]\n",
    "annual_50p_2017 = National_2017_copy_df[\"A_MEDIAN\"].mean()\n",
    "annual_50p_2016 = National_2016_copy_df[\"A_MEDIAN\"].mean()\n",
    "annual_50p_2015 = National_2015_copy_df[\"A_MEDIAN\"].mean()\n",
    "annual_50p_2014 = National_2014_copy_df[\"A_MEDIAN\"].mean()\n",
    "annual_50p_2013 = National_2013_copy_df[\"A_MEDIAN\"].mean()\n",
    "annual_50p_pay = [annual_50p_2017,annual_50p_2016,annual_50p_2015,annual_50p_2014,annual_50p_2013]\n",
    "\n",
    "\n",
    "hourly_75p_2017 = National_2017_copy_df[\"H_PCT75\"].mean()\n",
    "hourly_75p_2016 = National_2016_copy_df[\"H_PCT75\"].mean()\n",
    "hourly_75p_2015 = National_2015_copy_df[\"H_PCT75\"].mean()\n",
    "hourly_75p_2014 = National_2014_copy_df[\"H_PCT75\"].mean()\n",
    "hourly_75p_2013 = National_2013_copy_df[\"H_PCT75\"].mean()\n",
    "hourly_75p_pay = [hourly_75p_2017,hourly_75p_2016,hourly_75p_2015,hourly_75p_2014,hourly_75p_2013]\n",
    "annual_75p_2017 = National_2017_copy_df[\"A_PCT75\"].mean()\n",
    "annual_75p_2016 = National_2016_copy_df[\"A_PCT75\"].mean()\n",
    "annual_75p_2015 = National_2015_copy_df[\"A_PCT75\"].mean()\n",
    "annual_75p_2014 = National_2014_copy_df[\"A_PCT75\"].mean()\n",
    "annual_75p_2013 = National_2013_copy_df[\"A_PCT75\"].mean()\n",
    "annual_75p_pay = [annual_75p_2017,annual_75p_2016,annual_75p_2015,annual_75p_2014,annual_75p_2013]"
   ]
  },
  {
   "cell_type": "code",
   "execution_count": 6,
   "metadata": {},
   "outputs": [
    {
     "data": {
      "text/html": [
       "<style  type=\"text/css\" >\n",
       "</style>  \n",
       "<table id=\"T_90e9928a_3c54_11e8_9c63_60f6770430bb\" > \n",
       "<thead>    <tr> \n",
       "        <th class=\"blank level0\" ></th> \n",
       "        <th class=\"col_heading level0 col0\" >Year</th> \n",
       "        <th class=\"col_heading level0 col1\" >Total_emp_year</th> \n",
       "        <th class=\"col_heading level0 col2\" >Annual pay</th> \n",
       "        <th class=\"col_heading level0 col3\" >Hourlypay</th> \n",
       "        <th class=\"col_heading level0 col4\" >Hourly_10th_percentile</th> \n",
       "        <th class=\"col_heading level0 col5\" >Hourly_25th_percentile</th> \n",
       "        <th class=\"col_heading level0 col6\" >Hourly_Median</th> \n",
       "        <th class=\"col_heading level0 col7\" >Hourly_75th_percentile</th> \n",
       "        <th class=\"col_heading level0 col8\" >Annaul_10th_percentile</th> \n",
       "        <th class=\"col_heading level0 col9\" >Annual_25th_percentile</th> \n",
       "        <th class=\"col_heading level0 col10\" >Annual_Median</th> \n",
       "        <th class=\"col_heading level0 col11\" >Annual_75th_percentile</th> \n",
       "    </tr></thead> \n",
       "<tbody>    <tr> \n",
       "        <th id=\"T_90e9928a_3c54_11e8_9c63_60f6770430bblevel0_row0\" class=\"row_heading level0 row0\" >0</th> \n",
       "        <td id=\"T_90e9928a_3c54_11e8_9c63_60f6770430bbrow0_col0\" class=\"data row0 col0\" >2017</td> \n",
       "        <td id=\"T_90e9928a_3c54_11e8_9c63_60f6770430bbrow0_col1\" class=\"data row0 col1\" >2478120</td> \n",
       "        <td id=\"T_90e9928a_3c54_11e8_9c63_60f6770430bbrow0_col2\" class=\"data row0 col2\" >$88,121.11</td> \n",
       "        <td id=\"T_90e9928a_3c54_11e8_9c63_60f6770430bbrow0_col3\" class=\"data row0 col3\" >$42.37</td> \n",
       "        <td id=\"T_90e9928a_3c54_11e8_9c63_60f6770430bbrow0_col4\" class=\"data row0 col4\" >$21.69</td> \n",
       "        <td id=\"T_90e9928a_3c54_11e8_9c63_60f6770430bbrow0_col5\" class=\"data row0 col5\" >$27.91</td> \n",
       "        <td id=\"T_90e9928a_3c54_11e8_9c63_60f6770430bbrow0_col6\" class=\"data row0 col6\" >$37.64</td> \n",
       "        <td id=\"T_90e9928a_3c54_11e8_9c63_60f6770430bbrow0_col7\" class=\"data row0 col7\" >$51.07</td> \n",
       "        <td id=\"T_90e9928a_3c54_11e8_9c63_60f6770430bbrow0_col8\" class=\"data row0 col8\" >$45,118.89</td> \n",
       "        <td id=\"T_90e9928a_3c54_11e8_9c63_60f6770430bbrow0_col9\" class=\"data row0 col9\" >$58,048.89</td> \n",
       "        <td id=\"T_90e9928a_3c54_11e8_9c63_60f6770430bbrow0_col10\" class=\"data row0 col10\" >$78,287.78</td> \n",
       "        <td id=\"T_90e9928a_3c54_11e8_9c63_60f6770430bbrow0_col11\" class=\"data row0 col11\" >$106,214.44</td> \n",
       "    </tr>    <tr> \n",
       "        <th id=\"T_90e9928a_3c54_11e8_9c63_60f6770430bblevel0_row1\" class=\"row_heading level0 row1\" >1</th> \n",
       "        <td id=\"T_90e9928a_3c54_11e8_9c63_60f6770430bbrow1_col0\" class=\"data row1 col0\" >2016</td> \n",
       "        <td id=\"T_90e9928a_3c54_11e8_9c63_60f6770430bbrow1_col1\" class=\"data row1 col1\" >2385610</td> \n",
       "        <td id=\"T_90e9928a_3c54_11e8_9c63_60f6770430bbrow1_col2\" class=\"data row1 col2\" >$85,411.11</td> \n",
       "        <td id=\"T_90e9928a_3c54_11e8_9c63_60f6770430bbrow1_col3\" class=\"data row1 col3\" >$41.06</td> \n",
       "        <td id=\"T_90e9928a_3c54_11e8_9c63_60f6770430bbrow1_col4\" class=\"data row1 col4\" >$21.15</td> \n",
       "        <td id=\"T_90e9928a_3c54_11e8_9c63_60f6770430bbrow1_col5\" class=\"data row1 col5\" >$27.21</td> \n",
       "        <td id=\"T_90e9928a_3c54_11e8_9c63_60f6770430bbrow1_col6\" class=\"data row1 col6\" >$36.60</td> \n",
       "        <td id=\"T_90e9928a_3c54_11e8_9c63_60f6770430bbrow1_col7\" class=\"data row1 col7\" >$49.56</td> \n",
       "        <td id=\"T_90e9928a_3c54_11e8_9c63_60f6770430bbrow1_col8\" class=\"data row1 col8\" >$43,997.78</td> \n",
       "        <td id=\"T_90e9928a_3c54_11e8_9c63_60f6770430bbrow1_col9\" class=\"data row1 col9\" >$56,600.00</td> \n",
       "        <td id=\"T_90e9928a_3c54_11e8_9c63_60f6770430bbrow1_col10\" class=\"data row1 col10\" >$76,124.44</td> \n",
       "        <td id=\"T_90e9928a_3c54_11e8_9c63_60f6770430bbrow1_col11\" class=\"data row1 col11\" >$103,086.67</td> \n",
       "    </tr>    <tr> \n",
       "        <th id=\"T_90e9928a_3c54_11e8_9c63_60f6770430bblevel0_row2\" class=\"row_heading level0 row2\" >2</th> \n",
       "        <td id=\"T_90e9928a_3c54_11e8_9c63_60f6770430bbrow2_col0\" class=\"data row2 col0\" >2015</td> \n",
       "        <td id=\"T_90e9928a_3c54_11e8_9c63_60f6770430bbrow2_col1\" class=\"data row2 col1\" >2262160</td> \n",
       "        <td id=\"T_90e9928a_3c54_11e8_9c63_60f6770430bbrow2_col2\" class=\"data row2 col2\" >$85,426.67</td> \n",
       "        <td id=\"T_90e9928a_3c54_11e8_9c63_60f6770430bbrow2_col3\" class=\"data row2 col3\" >$41.07</td> \n",
       "        <td id=\"T_90e9928a_3c54_11e8_9c63_60f6770430bbrow2_col4\" class=\"data row2 col4\" >$20.88</td> \n",
       "        <td id=\"T_90e9928a_3c54_11e8_9c63_60f6770430bbrow2_col5\" class=\"data row2 col5\" >$27.10</td> \n",
       "        <td id=\"T_90e9928a_3c54_11e8_9c63_60f6770430bbrow2_col6\" class=\"data row2 col6\" >$36.60</td> \n",
       "        <td id=\"T_90e9928a_3c54_11e8_9c63_60f6770430bbrow2_col7\" class=\"data row2 col7\" >$49.97</td> \n",
       "        <td id=\"T_90e9928a_3c54_11e8_9c63_60f6770430bbrow2_col8\" class=\"data row2 col8\" >$43,425.56</td> \n",
       "        <td id=\"T_90e9928a_3c54_11e8_9c63_60f6770430bbrow2_col9\" class=\"data row2 col9\" >$56,361.11</td> \n",
       "        <td id=\"T_90e9928a_3c54_11e8_9c63_60f6770430bbrow2_col10\" class=\"data row2 col10\" >$76,125.56</td> \n",
       "        <td id=\"T_90e9928a_3c54_11e8_9c63_60f6770430bbrow2_col11\" class=\"data row2 col11\" >$103,928.89</td> \n",
       "    </tr>    <tr> \n",
       "        <th id=\"T_90e9928a_3c54_11e8_9c63_60f6770430bblevel0_row3\" class=\"row_heading level0 row3\" >3</th> \n",
       "        <td id=\"T_90e9928a_3c54_11e8_9c63_60f6770430bbrow3_col0\" class=\"data row3 col0\" >2014</td> \n",
       "        <td id=\"T_90e9928a_3c54_11e8_9c63_60f6770430bbrow3_col1\" class=\"data row3 col1\" >2144490</td> \n",
       "        <td id=\"T_90e9928a_3c54_11e8_9c63_60f6770430bbrow3_col2\" class=\"data row3 col2\" >$83,106.67</td> \n",
       "        <td id=\"T_90e9928a_3c54_11e8_9c63_60f6770430bbrow3_col3\" class=\"data row3 col3\" >$39.96</td> \n",
       "        <td id=\"T_90e9928a_3c54_11e8_9c63_60f6770430bbrow3_col4\" class=\"data row3 col4\" >$20.59</td> \n",
       "        <td id=\"T_90e9928a_3c54_11e8_9c63_60f6770430bbrow3_col5\" class=\"data row3 col5\" >$26.59</td> \n",
       "        <td id=\"T_90e9928a_3c54_11e8_9c63_60f6770430bbrow3_col6\" class=\"data row3 col6\" >$35.72</td> \n",
       "        <td id=\"T_90e9928a_3c54_11e8_9c63_60f6770430bbrow3_col7\" class=\"data row3 col7\" >$48.43</td> \n",
       "        <td id=\"T_90e9928a_3c54_11e8_9c63_60f6770430bbrow3_col8\" class=\"data row3 col8\" >$42,823.33</td> \n",
       "        <td id=\"T_90e9928a_3c54_11e8_9c63_60f6770430bbrow3_col9\" class=\"data row3 col9\" >$55,314.44</td> \n",
       "        <td id=\"T_90e9928a_3c54_11e8_9c63_60f6770430bbrow3_col10\" class=\"data row3 col10\" >$74,304.44</td> \n",
       "        <td id=\"T_90e9928a_3c54_11e8_9c63_60f6770430bbrow3_col11\" class=\"data row3 col11\" >$100,735.56</td> \n",
       "    </tr>    <tr> \n",
       "        <th id=\"T_90e9928a_3c54_11e8_9c63_60f6770430bblevel0_row4\" class=\"row_heading level0 row4\" >4</th> \n",
       "        <td id=\"T_90e9928a_3c54_11e8_9c63_60f6770430bbrow4_col0\" class=\"data row4 col0\" >2013</td> \n",
       "        <td id=\"T_90e9928a_3c54_11e8_9c63_60f6770430bbrow4_col1\" class=\"data row4 col1\" >2036710</td> \n",
       "        <td id=\"T_90e9928a_3c54_11e8_9c63_60f6770430bbrow4_col2\" class=\"data row4 col2\" >$81,937.78</td> \n",
       "        <td id=\"T_90e9928a_3c54_11e8_9c63_60f6770430bbrow4_col3\" class=\"data row4 col3\" >$39.39</td> \n",
       "        <td id=\"T_90e9928a_3c54_11e8_9c63_60f6770430bbrow4_col4\" class=\"data row4 col4\" >$20.42</td> \n",
       "        <td id=\"T_90e9928a_3c54_11e8_9c63_60f6770430bbrow4_col5\" class=\"data row4 col5\" >$26.25</td> \n",
       "        <td id=\"T_90e9928a_3c54_11e8_9c63_60f6770430bbrow4_col6\" class=\"data row4 col6\" >$35.15</td> \n",
       "        <td id=\"T_90e9928a_3c54_11e8_9c63_60f6770430bbrow4_col7\" class=\"data row4 col7\" >$47.72</td> \n",
       "        <td id=\"T_90e9928a_3c54_11e8_9c63_60f6770430bbrow4_col8\" class=\"data row4 col8\" >$42,480.00</td> \n",
       "        <td id=\"T_90e9928a_3c54_11e8_9c63_60f6770430bbrow4_col9\" class=\"data row4 col9\" >$54,607.78</td> \n",
       "        <td id=\"T_90e9928a_3c54_11e8_9c63_60f6770430bbrow4_col10\" class=\"data row4 col10\" >$73,118.89</td> \n",
       "        <td id=\"T_90e9928a_3c54_11e8_9c63_60f6770430bbrow4_col11\" class=\"data row4 col11\" >$99,260.00</td> \n",
       "    </tr></tbody> \n",
       "</table> "
      ],
      "text/plain": [
       "<pandas.io.formats.style.Styler at 0x18269901710>"
      ]
     },
     "execution_count": 6,
     "metadata": {},
     "output_type": "execute_result"
    }
   ],
   "source": [
    "Nat_data_df= pd.DataFrame({\"Total_emp_year\":total_emp_year,\"Year\":[\"2017\",\"2016\",\"2015\",\"2014\",\"2013\"],\n",
    "                          \"Annual pay\":annual_average_pay,\"Hourlypay\":hourly_average_pay,\n",
    "                           \"Hourly_10th_percentile\":hourly_10p_pay,\"Hourly_25th_percentile\":hourly_25p_pay,\n",
    "                          \"Hourly_Median\":hourly_50p_pay,\"Hourly_75th_percentile\":hourly_75p_pay,\n",
    "                          \"Annaul_10th_percentile\":annual_10p_pay,\"Annual_25th_percentile\":annual_25p_pay,\n",
    "                          \"Annual_Median\":annual_50p_pay,\"Annual_75th_percentile\":annual_75p_pay},\n",
    "                         columns = [\"Year\",\"Total_emp_year\",\"Annual pay\",\"Hourlypay\",\"Hourly_10th_percentile\",\n",
    "                                   \"Hourly_25th_percentile\",\"Hourly_Median\",\"Hourly_75th_percentile\",\"Annaul_10th_percentile\",\n",
    "                                  \"Annual_25th_percentile\",\"Annual_Median\",\"Annual_75th_percentile\"])\n",
    "\n",
    "Nat_data_df.style.format({\"Annual pay\":\"${:,.2f}\",\"Hourlypay\":\"${:,.2f}\",\"Hourly_10th_percentile\":\"${:,.2f}\",\n",
    "                                   \"Hourly_25th_percentile\":\"${:,.2f}\",\"Hourly_Median\":\"${:,.2f}\",\"Hourly_75th_percentile\":\"${:,.2f}\",\"Annaul_10th_percentile\":\"${:,.2f}\",\n",
    "                                  \"Annual_25th_percentile\":\"${:,.2f}\",\"Annual_Median\":\"${:,.2f}\",\"Annual_75th_percentile\":\"${:,.2f}\"})"
   ]
  },
  {
   "cell_type": "code",
   "execution_count": 7,
   "metadata": {},
   "outputs": [
    {
     "name": "stderr",
     "output_type": "stream",
     "text": [
      "C:\\Users\\harna\\Anaconda3\\lib\\site-packages\\ipykernel_launcher.py:1: FutureWarning: convert_objects is deprecated.  Use the data-type specific converters pd.to_datetime, pd.to_timedelta and pd.to_numeric.\n",
      "  \"\"\"Entry point for launching an IPython kernel.\n",
      "C:\\Users\\harna\\Anaconda3\\lib\\site-packages\\ipykernel_launcher.py:2: FutureWarning: convert_objects is deprecated.  Use the data-type specific converters pd.to_datetime, pd.to_timedelta and pd.to_numeric.\n",
      "  \n",
      "C:\\Users\\harna\\Anaconda3\\lib\\site-packages\\ipykernel_launcher.py:3: FutureWarning: convert_objects is deprecated.  Use the data-type specific converters pd.to_datetime, pd.to_timedelta and pd.to_numeric.\n",
      "  This is separate from the ipykernel package so we can avoid doing imports until\n",
      "C:\\Users\\harna\\Anaconda3\\lib\\site-packages\\ipykernel_launcher.py:4: FutureWarning: convert_objects is deprecated.  Use the data-type specific converters pd.to_datetime, pd.to_timedelta and pd.to_numeric.\n",
      "  after removing the cwd from sys.path.\n",
      "C:\\Users\\harna\\Anaconda3\\lib\\site-packages\\ipykernel_launcher.py:5: FutureWarning: convert_objects is deprecated.  Use the data-type specific converters pd.to_datetime, pd.to_timedelta and pd.to_numeric.\n",
      "  \"\"\"\n"
     ]
    }
   ],
   "source": [
    "state_2013_copy_df = state_2013_copy_df.convert_objects(convert_numeric=True)\n",
    "state_2014_copy_df = state_2014_copy_df.convert_objects(convert_numeric=True)\n",
    "state_2015_copy_df = state_2015_copy_df.convert_objects(convert_numeric=True)\n",
    "state_2016_copy_df = state_2016_copy_df.convert_objects(convert_numeric=True)\n",
    "state_2017_copy_df = state_2017_copy_df.convert_objects(convert_numeric=True)\n",
    "\n",
    "state_2013_gorup_df = state_2013_copy_df.groupby(\"ST\")\n",
    "state_2014_gorup_df = state_2013_copy_df.groupby(\"ST\")\n",
    "state_2015_gorup_df = state_2013_copy_df.groupby(\"ST\")\n",
    "state_2016_gorup_df = state_2013_copy_df.groupby(\"ST\")\n",
    "state_2017_gorup_df = state_2013_copy_df.groupby(\"ST\")\n",
    "State = state_2013_copy_df[\"STATE\"].unique()"
   ]
  },
  {
   "cell_type": "code",
   "execution_count": 8,
   "metadata": {},
   "outputs": [
    {
     "data": {
      "text/html": [
       "<div>\n",
       "<style>\n",
       "    .dataframe thead tr:only-child th {\n",
       "        text-align: right;\n",
       "    }\n",
       "\n",
       "    .dataframe thead th {\n",
       "        text-align: left;\n",
       "    }\n",
       "\n",
       "    .dataframe tbody tr th {\n",
       "        vertical-align: top;\n",
       "    }\n",
       "</style>\n",
       "<table border=\"1\" class=\"dataframe\">\n",
       "  <thead>\n",
       "    <tr style=\"text-align: right;\">\n",
       "      <th></th>\n",
       "      <th>2016 National Employment Matrix title</th>\n",
       "      <th>Code</th>\n",
       "      <th>Occupation type</th>\n",
       "      <th>2016_number</th>\n",
       "      <th>2026_number</th>\n",
       "      <th>2016_percentage</th>\n",
       "      <th>2026_percentage</th>\n",
       "      <th>Change_Number</th>\n",
       "      <th>change_Percent</th>\n",
       "      <th>Occupational openings, projected 2016-26 annual average</th>\n",
       "    </tr>\n",
       "  </thead>\n",
       "  <tbody>\n",
       "    <tr>\n",
       "      <th>0</th>\n",
       "      <td>Management analysts</td>\n",
       "      <td>13-1111</td>\n",
       "      <td>Line item</td>\n",
       "      <td>806.4</td>\n",
       "      <td>921.6</td>\n",
       "      <td>0.5</td>\n",
       "      <td>0.5</td>\n",
       "      <td>115.2</td>\n",
       "      <td>14.3</td>\n",
       "      <td>83.9</td>\n",
       "    </tr>\n",
       "    <tr>\n",
       "      <th>1</th>\n",
       "      <td>Budget analysts</td>\n",
       "      <td>13-2031</td>\n",
       "      <td>Line item</td>\n",
       "      <td>58.4</td>\n",
       "      <td>62.2</td>\n",
       "      <td>0.0</td>\n",
       "      <td>0.0</td>\n",
       "      <td>3.8</td>\n",
       "      <td>6.5</td>\n",
       "      <td>4.8</td>\n",
       "    </tr>\n",
       "    <tr>\n",
       "      <th>2</th>\n",
       "      <td>Credit analysts</td>\n",
       "      <td>13-2041</td>\n",
       "      <td>Line item</td>\n",
       "      <td>73.8</td>\n",
       "      <td>79.9</td>\n",
       "      <td>0.0</td>\n",
       "      <td>0.0</td>\n",
       "      <td>6.2</td>\n",
       "      <td>8.4</td>\n",
       "      <td>6.8</td>\n",
       "    </tr>\n",
       "    <tr>\n",
       "      <th>3</th>\n",
       "      <td>Financial analysts</td>\n",
       "      <td>13-2051</td>\n",
       "      <td>Line item</td>\n",
       "      <td>296.1</td>\n",
       "      <td>328.2</td>\n",
       "      <td>0.2</td>\n",
       "      <td>0.2</td>\n",
       "      <td>32.2</td>\n",
       "      <td>10.9</td>\n",
       "      <td>29.0</td>\n",
       "    </tr>\n",
       "    <tr>\n",
       "      <th>4</th>\n",
       "      <td>Computer systems analysts</td>\n",
       "      <td>15-1121</td>\n",
       "      <td>Line item</td>\n",
       "      <td>600.5</td>\n",
       "      <td>654.9</td>\n",
       "      <td>0.4</td>\n",
       "      <td>0.4</td>\n",
       "      <td>54.4</td>\n",
       "      <td>9.1</td>\n",
       "      <td>44.9</td>\n",
       "    </tr>\n",
       "    <tr>\n",
       "      <th>5</th>\n",
       "      <td>Information security analysts</td>\n",
       "      <td>15-1122</td>\n",
       "      <td>Line item</td>\n",
       "      <td>100.0</td>\n",
       "      <td>128.5</td>\n",
       "      <td>0.1</td>\n",
       "      <td>0.1</td>\n",
       "      <td>28.5</td>\n",
       "      <td>28.5</td>\n",
       "      <td>10.4</td>\n",
       "    </tr>\n",
       "    <tr>\n",
       "      <th>6</th>\n",
       "      <td>Operations research analysts</td>\n",
       "      <td>15-2031</td>\n",
       "      <td>Line item</td>\n",
       "      <td>114.0</td>\n",
       "      <td>145.3</td>\n",
       "      <td>0.1</td>\n",
       "      <td>0.1</td>\n",
       "      <td>31.3</td>\n",
       "      <td>27.4</td>\n",
       "      <td>10.7</td>\n",
       "    </tr>\n",
       "    <tr>\n",
       "      <th>7</th>\n",
       "      <td>Broadcast news analysts</td>\n",
       "      <td>27-3021</td>\n",
       "      <td>Line item</td>\n",
       "      <td>5.7</td>\n",
       "      <td>5.6</td>\n",
       "      <td>0.0</td>\n",
       "      <td>0.0</td>\n",
       "      <td>0.0</td>\n",
       "      <td>-0.4</td>\n",
       "      <td>0.5</td>\n",
       "    </tr>\n",
       "  </tbody>\n",
       "</table>\n",
       "</div>"
      ],
      "text/plain": [
       "  2016 National Employment Matrix title     Code Occupation type  2016_number  \\\n",
       "0                   Management analysts  13-1111       Line item        806.4   \n",
       "1                       Budget analysts  13-2031       Line item         58.4   \n",
       "2                       Credit analysts  13-2041       Line item         73.8   \n",
       "3                    Financial analysts  13-2051       Line item        296.1   \n",
       "4             Computer systems analysts  15-1121       Line item        600.5   \n",
       "5         Information security analysts  15-1122       Line item        100.0   \n",
       "6          Operations research analysts  15-2031       Line item        114.0   \n",
       "7               Broadcast news analysts  27-3021       Line item          5.7   \n",
       "\n",
       "   2026_number  2016_percentage  2026_percentage  Change_Number  \\\n",
       "0        921.6              0.5              0.5          115.2   \n",
       "1         62.2              0.0              0.0            3.8   \n",
       "2         79.9              0.0              0.0            6.2   \n",
       "3        328.2              0.2              0.2           32.2   \n",
       "4        654.9              0.4              0.4           54.4   \n",
       "5        128.5              0.1              0.1           28.5   \n",
       "6        145.3              0.1              0.1           31.3   \n",
       "7          5.6              0.0              0.0            0.0   \n",
       "\n",
       "   change_Percent  Occupational openings, projected 2016-26 annual average  \n",
       "0            14.3                                               83.9        \n",
       "1             6.5                                                4.8        \n",
       "2             8.4                                                6.8        \n",
       "3            10.9                                               29.0        \n",
       "4             9.1                                               44.9        \n",
       "5            28.5                                               10.4        \n",
       "6            27.4                                               10.7        \n",
       "7            -0.4                                                0.5        "
      ]
     },
     "execution_count": 8,
     "metadata": {},
     "output_type": "execute_result"
    }
   ],
   "source": [
    "National_2013_copy_df.fillna(0)\n",
    "National_2014_copy_df.fillna(0)\n",
    "National_2015_copy_df.fillna(0)\n",
    "National_2016_copy_df.fillna(0)\n",
    "National_2017_copy_df.fillna(0)\n",
    "predict_df.fillna(0)"
   ]
  },
  {
   "cell_type": "code",
   "execution_count": 9,
   "metadata": {
    "collapsed": true
   },
   "outputs": [],
   "source": [
    "state_total_emp_2013 = list(state_2013_gorup_df[\"TOT_EMP\"].sum())\n",
    "state_total_emp_2014 = list(state_2014_gorup_df[\"TOT_EMP\"].sum())\n",
    "state_total_emp_2015 = list(state_2015_gorup_df[\"TOT_EMP\"].sum())\n",
    "state_total_emp_2016 = list(state_2016_gorup_df[\"TOT_EMP\"].sum())\n",
    "state_total_emp_2017 = list(state_2017_gorup_df[\"TOT_EMP\"].sum())\n",
    "\n",
    "\n",
    "\n",
    "state_annual_average_2013 = list(state_2013_gorup_df[\"A_MEAN\"].mean())\n",
    "state_annual_average_2014 = list(state_2014_gorup_df[\"A_MEAN\"].mean())\n",
    "state_annual_average_2015 = list(state_2015_gorup_df[\"A_MEAN\"].mean())\n",
    "state_annual_average_2016 = list(state_2016_gorup_df[\"A_MEAN\"].mean())\n",
    "state_annual_average_2017 = list(state_2017_gorup_df[\"A_MEAN\"].mean())\n",
    "\n",
    "\n",
    "state_hour_average_2013 = list(state_2013_gorup_df[\"H_MEAN\"].mean())\n",
    "state_hour_average_2014 = list(state_2014_gorup_df[\"H_MEAN\"].mean())\n",
    "state_hour_average_2015 = list(state_2015_gorup_df[\"H_MEAN\"].mean())\n",
    "state_hour_average_2016 = list(state_2016_gorup_df[\"H_MEAN\"].mean())\n",
    "state_hour_average_2017 = list(state_2017_gorup_df[\"H_MEAN\"].mean())\n",
    "\n",
    "state_Hpct10_average_2013 = list(state_2013_gorup_df[\"H_PCT10\"].mean())\n",
    "state_Hpct10_average_2014 = list(state_2014_gorup_df[\"H_PCT10\"].mean())\n",
    "state_Hpct10_average_2015 = list(state_2015_gorup_df[\"H_PCT10\"].mean())\n",
    "state_Hpct10_average_2016 = list(state_2016_gorup_df[\"H_PCT10\"].mean())\n",
    "state_Hpct10_average_2017 = list(state_2017_gorup_df[\"H_PCT10\"].mean())\n",
    "\n",
    "\n",
    "state_Hpct25_average_2013 = list(state_2013_gorup_df[\"H_PCT25\"].mean())\n",
    "state_Hpct25_average_2014 = list(state_2014_gorup_df[\"H_PCT25\"].mean())\n",
    "state_Hpct25_average_2015 = list(state_2015_gorup_df[\"H_PCT25\"].mean())\n",
    "state_Hpct25_average_2016 = list(state_2016_gorup_df[\"H_PCT25\"].mean())\n",
    "state_Hpct25_average_2017 = list(state_2017_gorup_df[\"H_PCT25\"].mean())\n",
    "\n",
    "state_Hmedian_average_2013 = list(state_2013_gorup_df[\"H_MEDIAN\"].mean())\n",
    "state_Hmedian_average_2014 = list(state_2014_gorup_df[\"H_MEDIAN\"].mean())\n",
    "state_Hmedian_average_2015 = list(state_2015_gorup_df[\"H_MEDIAN\"].mean())\n",
    "state_Hmedian_average_2016 = list(state_2016_gorup_df[\"H_MEDIAN\"].mean())\n",
    "state_Hmedian_average_2017 = list(state_2017_gorup_df[\"H_MEDIAN\"].mean())\n",
    "\n",
    "state_Hpct75_average_2013 = list(state_2013_gorup_df[\"H_PCT75\"].mean())\n",
    "state_Hpct75_average_2014 = list(state_2014_gorup_df[\"H_PCT75\"].mean())\n",
    "state_Hpct75_average_2015 = list(state_2015_gorup_df[\"H_PCT75\"].mean())\n",
    "state_Hpct75_average_2016 = list(state_2016_gorup_df[\"H_PCT75\"].mean())\n",
    "state_Hpct75_average_2017 = list(state_2017_gorup_df[\"H_PCT75\"].mean())\n",
    "\n",
    "state_Hpct90_average_2013 = list(state_2013_gorup_df[\"H_PCT90\"].mean())\n",
    "state_Hpct90_average_2014 = list(state_2014_gorup_df[\"H_PCT90\"].mean())\n",
    "state_Hpct90_average_2015 = list(state_2015_gorup_df[\"H_PCT90\"].mean())\n",
    "state_Hpct90_average_2016 = list(state_2016_gorup_df[\"H_PCT90\"].mean())\n",
    "state_Hpct90_average_2017 = list(state_2017_gorup_df[\"H_PCT90\"].mean())\n",
    "\n",
    "\n",
    "state_Apct10_average_2013 = list(state_2013_gorup_df[\"A_PCT10\"].mean())\n",
    "state_Apct10_average_2014 = list(state_2014_gorup_df[\"A_PCT10\"].mean())\n",
    "state_Apct10_average_2015 = list(state_2015_gorup_df[\"A_PCT10\"].mean())\n",
    "state_Apct10_average_2016 = list(state_2016_gorup_df[\"A_PCT10\"].mean())\n",
    "state_Apct10_average_2017 = list(state_2017_gorup_df[\"A_PCT10\"].mean())\n",
    "\n",
    "\n",
    "state_Apct25_average_2013 = list(state_2013_gorup_df[\"A_PCT25\"].mean())\n",
    "state_Apct25_average_2014 = list(state_2014_gorup_df[\"A_PCT25\"].mean())\n",
    "state_Apct25_average_2015 = list(state_2015_gorup_df[\"A_PCT25\"].mean())\n",
    "state_Apct25_average_2016 = list(state_2016_gorup_df[\"A_PCT25\"].mean())\n",
    "state_Apct25_average_2017 = list(state_2017_gorup_df[\"A_PCT25\"].mean())\n",
    "\n",
    "state_Amedian_average_2013 = list(state_2013_gorup_df[\"A_MEDIAN\"].mean())\n",
    "state_Amedian_average_2014 = list(state_2014_gorup_df[\"A_MEDIAN\"].mean())\n",
    "state_Amedian_average_2015 = list(state_2015_gorup_df[\"A_MEDIAN\"].mean())\n",
    "state_Amedian_average_2016 = list(state_2016_gorup_df[\"A_MEDIAN\"].mean())\n",
    "state_Amedian_average_2017 = list(state_2017_gorup_df[\"A_MEDIAN\"].mean())\n",
    "\n",
    "state_Apct75_average_2013 = list(state_2013_gorup_df[\"A_PCT75\"].mean())\n",
    "state_Apct75_average_2014 = list(state_2014_gorup_df[\"A_PCT75\"].mean())\n",
    "state_Apct75_average_2015 = list(state_2015_gorup_df[\"A_PCT75\"].mean())\n",
    "state_Apct75_average_2016 = list(state_2016_gorup_df[\"A_PCT75\"].mean())\n",
    "state_Apct75_average_2017 = list(state_2017_gorup_df[\"A_PCT75\"].mean())\n",
    "\n",
    "state_Apct90_average_2013 = list(state_2013_gorup_df[\"A_PCT90\"].mean())\n",
    "state_Apct90_average_2014 = list(state_2014_gorup_df[\"A_PCT90\"].mean())\n",
    "state_Apct90_average_2015 = list(state_2015_gorup_df[\"A_PCT90\"].mean())\n",
    "state_Apct90_average_2016 = list(state_2016_gorup_df[\"A_PCT90\"].mean())\n",
    "state_Apct90_average_2017 = list(state_2017_gorup_df[\"A_PCT90\"].mean())"
   ]
  },
  {
   "cell_type": "code",
   "execution_count": 10,
   "metadata": {},
   "outputs": [
    {
     "data": {
      "text/html": [
       "<div>\n",
       "<style>\n",
       "    .dataframe thead tr:only-child th {\n",
       "        text-align: right;\n",
       "    }\n",
       "\n",
       "    .dataframe thead th {\n",
       "        text-align: left;\n",
       "    }\n",
       "\n",
       "    .dataframe tbody tr th {\n",
       "        vertical-align: top;\n",
       "    }\n",
       "</style>\n",
       "<table border=\"1\" class=\"dataframe\">\n",
       "  <thead>\n",
       "    <tr style=\"text-align: right;\">\n",
       "      <th></th>\n",
       "      <th>State</th>\n",
       "      <th>Tot emp_2013</th>\n",
       "      <th>Tot emp_2014</th>\n",
       "      <th>Tot emp_2015</th>\n",
       "      <th>Tot emp_2016</th>\n",
       "      <th>Tot emp_2017</th>\n",
       "    </tr>\n",
       "  </thead>\n",
       "  <tbody>\n",
       "    <tr>\n",
       "      <th>0</th>\n",
       "      <td>Alabama</td>\n",
       "      <td>2240.0</td>\n",
       "      <td>2240.0</td>\n",
       "      <td>2240.0</td>\n",
       "      <td>2240.0</td>\n",
       "      <td>2240.0</td>\n",
       "    </tr>\n",
       "    <tr>\n",
       "      <th>1</th>\n",
       "      <td>Alaska</td>\n",
       "      <td>17790.0</td>\n",
       "      <td>17790.0</td>\n",
       "      <td>17790.0</td>\n",
       "      <td>17790.0</td>\n",
       "      <td>17790.0</td>\n",
       "    </tr>\n",
       "    <tr>\n",
       "      <th>2</th>\n",
       "      <td>Arizona</td>\n",
       "      <td>10220.0</td>\n",
       "      <td>10220.0</td>\n",
       "      <td>10220.0</td>\n",
       "      <td>10220.0</td>\n",
       "      <td>10220.0</td>\n",
       "    </tr>\n",
       "    <tr>\n",
       "      <th>3</th>\n",
       "      <td>Arkansas</td>\n",
       "      <td>38790.0</td>\n",
       "      <td>38790.0</td>\n",
       "      <td>38790.0</td>\n",
       "      <td>38790.0</td>\n",
       "      <td>38790.0</td>\n",
       "    </tr>\n",
       "    <tr>\n",
       "      <th>4</th>\n",
       "      <td>California</td>\n",
       "      <td>270880.0</td>\n",
       "      <td>270880.0</td>\n",
       "      <td>270880.0</td>\n",
       "      <td>270880.0</td>\n",
       "      <td>270880.0</td>\n",
       "    </tr>\n",
       "  </tbody>\n",
       "</table>\n",
       "</div>"
      ],
      "text/plain": [
       "        State  Tot emp_2013  Tot emp_2014  Tot emp_2015  Tot emp_2016  \\\n",
       "0     Alabama        2240.0        2240.0        2240.0        2240.0   \n",
       "1      Alaska       17790.0       17790.0       17790.0       17790.0   \n",
       "2     Arizona       10220.0       10220.0       10220.0       10220.0   \n",
       "3    Arkansas       38790.0       38790.0       38790.0       38790.0   \n",
       "4  California      270880.0      270880.0      270880.0      270880.0   \n",
       "\n",
       "   Tot emp_2017  \n",
       "0        2240.0  \n",
       "1       17790.0  \n",
       "2       10220.0  \n",
       "3       38790.0  \n",
       "4      270880.0  "
      ]
     },
     "execution_count": 10,
     "metadata": {},
     "output_type": "execute_result"
    }
   ],
   "source": [
    "state_emp_df = pd.DataFrame({\"State\":State,\"Tot emp_2013\":state_total_emp_2013,\"Tot emp_2014\":state_total_emp_2014,\n",
    "                            \"Tot emp_2015\":state_total_emp_2015,\"Tot emp_2016\":state_total_emp_2016,\n",
    "                            \"Tot emp_2017\":state_total_emp_2017})\n",
    "state_emp_df.head()"
   ]
  },
  {
   "cell_type": "code",
   "execution_count": 11,
   "metadata": {
    "collapsed": true
   },
   "outputs": [],
   "source": [
    "state_annual_avg_df = pd.DataFrame({\"State\":State,\"Hour_Pay_2013\":state_hour_average_2013,\n",
    "                                    \"Hour_Pay_2014\":state_hour_average_2014,\n",
    "                                   \"Hour_Pay_2015\":state_hour_average_2015,\n",
    "                                   \"Hour_Pay_2016\":state_hour_average_2016,\n",
    "                                   \"Hour_Pay_2017\":state_hour_average_2017})"
   ]
  },
  {
   "cell_type": "code",
   "execution_count": 12,
   "metadata": {},
   "outputs": [],
   "source": [
    "state_annual_avg_df = pd.DataFrame({\"State\":State,\"Average Pay_2013\":state_annual_average_2013,\n",
    "                                    \"Average Pay_2014\":state_annual_average_2014,\n",
    "                                   \"Average Pay_2015\":state_annual_average_2015,\n",
    "                                   \"Average Pay_2016\":state_annual_average_2016,\n",
    "                                   \"Average Pay_2017\":state_annual_average_2017})"
   ]
  },
  {
   "cell_type": "code",
   "execution_count": 13,
   "metadata": {
    "collapsed": true
   },
   "outputs": [],
   "source": [
    "state_hour_pct25_df = pd.DataFrame({\"State\":State,\"25th pct_hour_wage_2013\":state_Hpct25_average_2013,\n",
    "                                    \"25th pct_hour_wage_2014\":state_Hpct25_average_2014,\n",
    "                                   \"25th pct_hour_wage_2015\":state_Hpct25_average_2015,\n",
    "                                   \"25th pct_hour_wage_2016\":state_Hpct25_average_2016,\n",
    "                                   \"25th pct_hour_wage_2017\":state_Hpct25_average_2017})"
   ]
  },
  {
   "cell_type": "code",
   "execution_count": 14,
   "metadata": {
    "collapsed": true
   },
   "outputs": [],
   "source": [
    "state_hour_median_df = pd.DataFrame({\"State\":State,\"median_hour_wage_2013\":state_Hmedian_average_2013,\n",
    "                                    \"median_hour_wage_2014\":state_Hmedian_average_2014,\n",
    "                                   \"median_hour_wage_2015\":state_Hmedian_average_2015,\n",
    "                                   \"median_hour_wage_2016\":state_Hmedian_average_2016,\n",
    "                                   \"meadian_hour_wage_2017\":state_Hmedian_average_2017})"
   ]
  },
  {
   "cell_type": "code",
   "execution_count": 15,
   "metadata": {
    "collapsed": true
   },
   "outputs": [],
   "source": [
    "tot_emp_2017 = National_2017_copy_df[\"TOT_EMP\"].sum()\n",
    "tot_emp_2016 = National_2016_copy_df[\"TOT_EMP\"].sum()\n",
    "tot_emp_2015 = National_2015_copy_df[\"TOT_EMP\"].sum()\n",
    "tot_emp_2014 = National_2014_copy_df[\"TOT_EMP\"].sum()\n",
    "tot_emp_2013 = National_2013_copy_df[\"TOT_EMP\"].sum()\n",
    "total_emp_year = [tot_emp_2017,tot_emp_2016,tot_emp_2015,tot_emp_2014,tot_emp_2013]"
   ]
  },
  {
   "cell_type": "code",
   "execution_count": 16,
   "metadata": {
    "collapsed": true
   },
   "outputs": [],
   "source": [
    "hour_mean_2017 = National_2017_copy_df[\"H_MEAN\"].mean()\n",
    "hour_mean_2016 = National_2016_copy_df[\"H_MEAN\"].mean()\n",
    "hour_mean_2015 = National_2015_copy_df[\"H_MEAN\"].mean()\n",
    "hour_mean_2014 = National_2014_copy_df[\"H_MEAN\"].mean()\n",
    "hour_mean_2013 = National_2013_copy_df[\"H_MEAN\"].mean()\n",
    "hourlypay_mean_year = [hour_mean_2017,hour_mean_2016,hour_mean_2015,hour_mean_2014,hour_mean_2013]"
   ]
  },
  {
   "cell_type": "code",
   "execution_count": 17,
   "metadata": {
    "collapsed": true
   },
   "outputs": [],
   "source": [
    "hourpct10_mean_2017 = National_2017_copy_df[\"H_PCT10\"].mean()\n",
    "hourpct10_mean_2016 = National_2016_copy_df[\"H_PCT10\"].mean()\n",
    "hourpct10_mean_2015 = National_2015_copy_df[\"H_PCT10\"].mean()\n",
    "hourpct10_mean_2014 = National_2014_copy_df[\"H_PCT10\"].mean()\n",
    "hourpct10_mean_2013 = National_2013_copy_df[\"H_PCT10\"].mean()\n",
    "hourpct10_mean_year = [hourpct10_mean_2017,hourpct10_mean_2016,hourpct10_mean_2015,hourpct10_mean_2014,hourpct10_mean_2013]"
   ]
  },
  {
   "cell_type": "code",
   "execution_count": 18,
   "metadata": {
    "collapsed": true
   },
   "outputs": [],
   "source": [
    "hourpct25_mean_2017 = National_2017_copy_df[\"H_PCT25\"].mean()\n",
    "hourpct25_mean_2016 = National_2016_copy_df[\"H_PCT25\"].mean()\n",
    "hourpct25_mean_2015 = National_2015_copy_df[\"H_PCT25\"].mean()\n",
    "hourpct25_mean_2014 = National_2014_copy_df[\"H_PCT25\"].mean()\n",
    "hourpct25_mean_2013 = National_2013_copy_df[\"H_PCT25\"].mean()\n",
    "hourpct25_mean_year = [hourpct25_mean_2017,hourpct25_mean_2016,hourpct25_mean_2015,hourpct25_mean_2014,hourpct25_mean_2013]\n"
   ]
  },
  {
   "cell_type": "code",
   "execution_count": 19,
   "metadata": {
    "collapsed": true
   },
   "outputs": [],
   "source": [
    "hourpct75_mean_2017 = National_2017_copy_df[\"H_PCT75\"].mean()\n",
    "hourpct75_mean_2016 = National_2016_copy_df[\"H_PCT75\"].mean()\n",
    "hourpct75_mean_2015 = National_2015_copy_df[\"H_PCT75\"].mean()\n",
    "hourpct75_mean_2014 = National_2014_copy_df[\"H_PCT75\"].mean()\n",
    "hourpct75_mean_2013 = National_2013_copy_df[\"H_PCT75\"].mean()\n",
    "hourpct75_mean_year = [hourpct75_mean_2017,hourpct75_mean_2016,hourpct75_mean_2015,hourpct75_mean_2014,hourpct75_mean_2013]\n"
   ]
  },
  {
   "cell_type": "code",
   "execution_count": 20,
   "metadata": {
    "collapsed": true
   },
   "outputs": [],
   "source": [
    "# hourpct90_mean_2017 = National_2017_copy_df[\"H_PCT90\"].mean()\n",
    "# hourpct90_mean_2016 = National_2016_copy_df[\"H_PCT90\"].mean()\n",
    "# hourpct90_mean_2015 = National_2015_copy_df[\"H_PCT90\"].mean()\n",
    "# hourpct90_mean_2014 = National_2014_copy_df[\"H_PCT90\"].mean()\n",
    "# hourpct90_mean_2013 = National_2013_copy_df[\"H_PCT90\"].mean()\n",
    "# hourpct90_mean_year = [hourpct90_mean_2017,hourpct90_mean_2016,hourpct90_mean_2015,hourpct90_mean_2014,hourpct90_mean_2013]\n"
   ]
  },
  {
   "cell_type": "code",
   "execution_count": 21,
   "metadata": {
    "collapsed": true
   },
   "outputs": [],
   "source": [
    "annual_mean_2017 = National_2017_copy_df[\"A_MEAN\"].mean()\n",
    "annual_mean_2016 = National_2016_copy_df[\"A_MEAN\"].mean()\n",
    "annual_mean_2015 = National_2015_copy_df[\"A_MEAN\"].mean()\n",
    "annual_mean_2014 = National_2014_copy_df[\"A_MEAN\"].mean()\n",
    "annual_mean_2013 = National_2013_copy_df[\"A_MEAN\"].mean()\n",
    "annualpay_mean_year = [annual_mean_2017,annual_mean_2016,annual_mean_2015,annual_mean_2014,annual_mean_2013]"
   ]
  },
  {
   "cell_type": "code",
   "execution_count": 22,
   "metadata": {
    "collapsed": true
   },
   "outputs": [],
   "source": [
    "annualpct10_mean_2017 = National_2017_copy_df[\"A_PCT10\"].mean()\n",
    "annualpct10_mean_2016 = National_2016_copy_df[\"A_PCT10\"].mean()\n",
    "annualpct10_mean_2015 = National_2015_copy_df[\"A_PCT10\"].mean()\n",
    "annualpct10_mean_2014 = National_2014_copy_df[\"A_PCT10\"].mean()\n",
    "annualpct10_mean_2013 = National_2013_copy_df[\"A_PCT10\"].mean()\n",
    "annualpct10_mean_year = [annualpct10_mean_2017,annualpct10_mean_2016,annualpct10_mean_2015,annualpct10_mean_2014,annualpct10_mean_2013]"
   ]
  },
  {
   "cell_type": "code",
   "execution_count": 23,
   "metadata": {
    "collapsed": true
   },
   "outputs": [],
   "source": [
    "annualpct10_mean_2017 = National_2017_copy_df[\"A_PCT10\"].mean()\n",
    "annualpct10_mean_2016 = National_2016_copy_df[\"A_PCT10\"].mean()\n",
    "annualpct10_mean_2015 = National_2015_copy_df[\"A_PCT10\"].mean()\n",
    "annualpct10_mean_2014 = National_2014_copy_df[\"A_PCT10\"].mean()\n",
    "annualpct10_mean_2013 = National_2013_copy_df[\"A_PCT10\"].mean()\n",
    "annualpct10_mean_year = [hourpct10_mean_2017,hourpct10_mean_2016,hourpct10_mean_2015,hourpct10_mean_2014,hourpct10_mean_2013]"
   ]
  },
  {
   "cell_type": "code",
   "execution_count": 24,
   "metadata": {
    "collapsed": true
   },
   "outputs": [],
   "source": [
    "annualpct25_mean_2017 = National_2017_copy_df[\"A_PCT25\"].mean()\n",
    "annualpct25_mean_2016 = National_2016_copy_df[\"A_PCT25\"].mean()\n",
    "annualpct25_mean_2015 = National_2015_copy_df[\"A_PCT25\"].mean()\n",
    "annualpct25_mean_2014 = National_2014_copy_df[\"A_PCT25\"].mean()\n",
    "annualpct25_mean_2013 = National_2013_copy_df[\"A_PCT25\"].mean()\n",
    "annualpct25_mean_year = [annualpct10_mean_2017,annualpct10_mean_2016,annualpct10_mean_2015,annualpct10_mean_2014,annualpct10_mean_2013]"
   ]
  },
  {
   "cell_type": "code",
   "execution_count": 25,
   "metadata": {
    "collapsed": true
   },
   "outputs": [],
   "source": [
    "annualpct75_mean_2017 = National_2017_copy_df[\"A_PCT75\"].mean()\n",
    "annualpct75_mean_2016 = National_2016_copy_df[\"A_PCT75\"].mean()\n",
    "annualpct75_mean_2015 = National_2015_copy_df[\"A_PCT75\"].mean()\n",
    "annualpct75_mean_2014 = National_2014_copy_df[\"A_PCT75\"].mean()\n",
    "annualpct75_mean_2013 = National_2013_copy_df[\"A_PCT75\"].mean()\n",
    "annualpct75_mean_year = [annualpct75_mean_2017,annualpct75_mean_2016,annualpct75_mean_2015,annualpct75_mean_2014,annualpct75_mean_2013]"
   ]
  },
  {
   "cell_type": "code",
   "execution_count": 26,
   "metadata": {
    "collapsed": true
   },
   "outputs": [],
   "source": [
    "# annualpct90_mean_2017 = National_2017_copy_df[\"A_PCT90\"].mean()\n",
    "# annualpct90_mean_2016 = National_2016_copy_df[\"A_PCT90\"].mean()\n",
    "# annualpct90_mean_2015 = National_2015_copy_df[\"A_PCT90\"].mean()\n",
    "# annualpct90_mean_2014 = National_2014_copy_df[\"A_PCT90\"].mean()\n",
    "# annualpct90_mean_2013 = National_2013_copy_df[\"A_PCT90\"].mean()\n",
    "# annualpct90_mean_year = [annualpct90_mean_2017,annualpct90_mean_2016,annualpct90_mean_2015,annualpct90_mean_2014,annualpct90_mean_2013]"
   ]
  },
  {
   "cell_type": "code",
   "execution_count": 27,
   "metadata": {},
   "outputs": [
    {
     "data": {
      "text/html": [
       "<div>\n",
       "<style>\n",
       "    .dataframe thead tr:only-child th {\n",
       "        text-align: right;\n",
       "    }\n",
       "\n",
       "    .dataframe thead th {\n",
       "        text-align: left;\n",
       "    }\n",
       "\n",
       "    .dataframe tbody tr th {\n",
       "        vertical-align: top;\n",
       "    }\n",
       "</style>\n",
       "<table border=\"1\" class=\"dataframe\">\n",
       "  <thead>\n",
       "    <tr style=\"text-align: right;\">\n",
       "      <th></th>\n",
       "      <th>Year</th>\n",
       "      <th>Total_emp_year</th>\n",
       "      <th>Average Hourly Pay</th>\n",
       "      <th>Average Annual Pay</th>\n",
       "      <th>Average Hourly Pct10</th>\n",
       "      <th>Average Hourly Pct25</th>\n",
       "      <th>Average Hourly Pct75</th>\n",
       "      <th>Average Annual Pct10</th>\n",
       "      <th>Average Annual Pct25</th>\n",
       "      <th>Average Annual Pct75</th>\n",
       "    </tr>\n",
       "  </thead>\n",
       "  <tbody>\n",
       "    <tr>\n",
       "      <th>0</th>\n",
       "      <td>2017</td>\n",
       "      <td>2478120</td>\n",
       "      <td>42.37</td>\n",
       "      <td>88121.11</td>\n",
       "      <td>21.69</td>\n",
       "      <td>27.91</td>\n",
       "      <td>51.07</td>\n",
       "      <td>21.69</td>\n",
       "      <td>45118.89</td>\n",
       "      <td>106214.44</td>\n",
       "    </tr>\n",
       "    <tr>\n",
       "      <th>1</th>\n",
       "      <td>2016</td>\n",
       "      <td>2385610</td>\n",
       "      <td>41.06</td>\n",
       "      <td>85411.11</td>\n",
       "      <td>21.15</td>\n",
       "      <td>27.21</td>\n",
       "      <td>49.56</td>\n",
       "      <td>21.15</td>\n",
       "      <td>43997.78</td>\n",
       "      <td>103086.67</td>\n",
       "    </tr>\n",
       "    <tr>\n",
       "      <th>2</th>\n",
       "      <td>2015</td>\n",
       "      <td>2262160</td>\n",
       "      <td>41.07</td>\n",
       "      <td>85426.67</td>\n",
       "      <td>20.88</td>\n",
       "      <td>27.10</td>\n",
       "      <td>49.97</td>\n",
       "      <td>20.88</td>\n",
       "      <td>43425.56</td>\n",
       "      <td>103928.89</td>\n",
       "    </tr>\n",
       "    <tr>\n",
       "      <th>3</th>\n",
       "      <td>2014</td>\n",
       "      <td>2144490</td>\n",
       "      <td>39.96</td>\n",
       "      <td>83106.67</td>\n",
       "      <td>20.59</td>\n",
       "      <td>26.59</td>\n",
       "      <td>48.43</td>\n",
       "      <td>20.59</td>\n",
       "      <td>42823.33</td>\n",
       "      <td>100735.56</td>\n",
       "    </tr>\n",
       "    <tr>\n",
       "      <th>4</th>\n",
       "      <td>2013</td>\n",
       "      <td>2036710</td>\n",
       "      <td>39.39</td>\n",
       "      <td>81937.78</td>\n",
       "      <td>20.42</td>\n",
       "      <td>26.25</td>\n",
       "      <td>47.72</td>\n",
       "      <td>20.42</td>\n",
       "      <td>42480.00</td>\n",
       "      <td>99260.00</td>\n",
       "    </tr>\n",
       "  </tbody>\n",
       "</table>\n",
       "</div>"
      ],
      "text/plain": [
       "   Year  Total_emp_year  Average Hourly Pay  Average Annual Pay  \\\n",
       "0  2017         2478120               42.37            88121.11   \n",
       "1  2016         2385610               41.06            85411.11   \n",
       "2  2015         2262160               41.07            85426.67   \n",
       "3  2014         2144490               39.96            83106.67   \n",
       "4  2013         2036710               39.39            81937.78   \n",
       "\n",
       "   Average Hourly Pct10  Average Hourly Pct25  Average Hourly Pct75  \\\n",
       "0                 21.69                 27.91                 51.07   \n",
       "1                 21.15                 27.21                 49.56   \n",
       "2                 20.88                 27.10                 49.97   \n",
       "3                 20.59                 26.59                 48.43   \n",
       "4                 20.42                 26.25                 47.72   \n",
       "\n",
       "   Average Annual Pct10  Average Annual Pct25  Average Annual Pct75  \n",
       "0                 21.69              45118.89             106214.44  \n",
       "1                 21.15              43997.78             103086.67  \n",
       "2                 20.88              43425.56             103928.89  \n",
       "3                 20.59              42823.33             100735.56  \n",
       "4                 20.42              42480.00              99260.00  "
      ]
     },
     "execution_count": 27,
     "metadata": {},
     "output_type": "execute_result"
    }
   ],
   "source": [
    "pd.options.display.float_format = '{:.2f}'.format\n",
    "df = pd.DataFrame({\"Year\":[\"2017\",\"2016\",\"2015\",\"2014\",\"2013\"],\"Total_emp_year\":total_emp_year,\"Average Hourly Pay\":hourlypay_mean_year,\n",
    "                    \"Average Hourly Pct10\":hourpct10_mean_year,\n",
    "                    \"Average Hourly Pct25\":hourpct25_mean_year,\n",
    "                    \"Average Hourly Pct75\":hourpct75_mean_year,\n",
    "#                     \"Average Hourly Pct90\": hourpct90_mean_year,\n",
    "                   \"Average Annual Pay\":annualpay_mean_year,\n",
    "                    \"Average Annual Pct10\":annualpct10_mean_year,\n",
    "                    \"Average Annual Pct25\":annualpct25_mean_year,\n",
    "                    \"Average Annual Pct75\":annualpct75_mean_year\n",
    "                   #\"Average Hourly Pct90\": hourpct90_mean_year\n",
    "                  })\n",
    "df = df [[\"Year\", \"Total_emp_year\",\"Average Hourly Pay\",\"Average Annual Pay\",\"Average Hourly Pct10\",\"Average Hourly Pct25\",\"Average Hourly Pct75\",\n",
    "        \"Average Annual Pct10\",\"Average Annual Pct25\",\"Average Annual Pct75\"]]\n",
    "\n",
    "df"
   ]
  },
  {
   "cell_type": "code",
   "execution_count": 28,
   "metadata": {},
   "outputs": [
    {
     "data": {
      "image/png": "[encoded data removed]",
      "text/plain": [
       "<matplotlib.figure.Figure at 0x18269909320>"
      ]
     },
     "metadata": {},
     "output_type": "display_data"
    }
   ],
   "source": [
    "plt.plot(df['Year'],df['Total_emp_year'], color='blue', marker='o')\n",
    "plt.ylim([1500000, 3000000])\n",
    "plt.title('National Growth Per Year')\n",
    "plt.xlabel('Year')\n",
    "plt.ylabel('Jobs Occupied that Year')\n",
    "plt.show()"
   ]
  },
  {
   "cell_type": "code",
   "execution_count": 29,
   "metadata": {},
   "outputs": [
    {
     "data": {
      "text/html": [
       "<div>\n",
       "<style>\n",
       "    .dataframe thead tr:only-child th {\n",
       "        text-align: right;\n",
       "    }\n",
       "\n",
       "    .dataframe thead th {\n",
       "        text-align: left;\n",
       "    }\n",
       "\n",
       "    .dataframe tbody tr th {\n",
       "        vertical-align: top;\n",
       "    }\n",
       "</style>\n",
       "<table border=\"1\" class=\"dataframe\">\n",
       "  <thead>\n",
       "    <tr style=\"text-align: right;\">\n",
       "      <th></th>\n",
       "      <th>Total_Emp_Year</th>\n",
       "      <th>Year</th>\n",
       "    </tr>\n",
       "  </thead>\n",
       "  <tbody>\n",
       "    <tr>\n",
       "      <th>0</th>\n",
       "      <td>2036710</td>\n",
       "      <td>2013</td>\n",
       "    </tr>\n",
       "    <tr>\n",
       "      <th>1</th>\n",
       "      <td>2144490</td>\n",
       "      <td>2014</td>\n",
       "    </tr>\n",
       "    <tr>\n",
       "      <th>2</th>\n",
       "      <td>2262160</td>\n",
       "      <td>2015</td>\n",
       "    </tr>\n",
       "    <tr>\n",
       "      <th>3</th>\n",
       "      <td>2385610</td>\n",
       "      <td>2016</td>\n",
       "    </tr>\n",
       "    <tr>\n",
       "      <th>4</th>\n",
       "      <td>2478120</td>\n",
       "      <td>2017</td>\n",
       "    </tr>\n",
       "    <tr>\n",
       "      <th>5</th>\n",
       "      <td>2700000</td>\n",
       "      <td>2026</td>\n",
       "    </tr>\n",
       "  </tbody>\n",
       "</table>\n",
       "</div>"
      ],
      "text/plain": [
       "   Total_Emp_Year  Year\n",
       "0         2036710  2013\n",
       "1         2144490  2014\n",
       "2         2262160  2015\n",
       "3         2385610  2016\n",
       "4         2478120  2017\n",
       "5         2700000  2026"
      ]
     },
     "execution_count": 29,
     "metadata": {},
     "output_type": "execute_result"
    }
   ],
   "source": [
    "pre_dict={\"Year\":[2013, 2014, 2015, 2016, 2017, 2026],\n",
    "         'Total_Emp_Year':[2036710,2144490,2262160,2385610, 2478120, 2700000]}\n",
    "\n",
    "pre_dict_df = pd.DataFrame.from_dict(pre_dict)\n",
    "pre_dict_df"
   ]
  },
  {
   "cell_type": "code",
   "execution_count": 52,
   "metadata": {},
   "outputs": [
    {
     "name": "stderr",
     "output_type": "stream",
     "text": [
      "C:\\Users\\harna\\Anaconda3\\lib\\site-packages\\ipykernel_launcher.py:12: MatplotlibDeprecationWarning: The set_axis_bgcolor function was deprecated in version 2.0. Use set_facecolor instead.\n",
      "  if sys.path[0] == '':\n"
     ]
    },
    {
     "data": {
      "image/png": "[encoded data removed]",
      "text/plain": [
       "<matplotlib.figure.Figure at 0x1826b167ef0>"
      ]
     },
     "metadata": {},
     "output_type": "display_data"
    }
   ],
   "source": [
    "plt.plot(pre_dict_df['Year'],pre_dict_df['Total_Emp_Year'], color='blue', marker='o')\n",
    "ax = plt.gca()\n",
    "#plt.ylim([1500000, 3000000])\n",
    "plt.xlabel('Year')\n",
    "plt.ylabel('Jobs Occupied that Year')\n",
    "plt.title('Predicted Growth Per Year')\n",
    "ax.xaxis.label.set_color('white')\n",
    "ax.yaxis.label.set_color('white')\n",
    "ax.title.set_color('white')\n",
    "ax.tick_params(axis='x', colors='white')\n",
    "ax.tick_params(axis='y', colors='white')\n",
    "ax.set_axis_bgcolor('navy')\n",
    "plt.savefig('image.png', transparent=True)\n",
    "plt.show()\n"
   ]
  },
  {
   "cell_type": "code",
   "execution_count": 31,
   "metadata": {},
   "outputs": [
    {
     "data": {
      "image/png": "[encoded data removed]",
      "text/plain": [
       "<matplotlib.figure.Figure at 0x18269d8e470>"
      ]
     },
     "metadata": {},
     "output_type": "display_data"
    }
   ],
   "source": [
    "plt.plot(df['Year'],df['Average Annual Pay'], color='blue', marker='o')\n",
    "plt.ylim([75000, 90000])\n",
    "plt.title('National Pay Growth Per Year')\n",
    "plt.xlabel('Year')\n",
    "plt.ylabel('Jobs Occupied that Year')\n",
    "plt.show()"
   ]
  },
  {
   "cell_type": "code",
   "execution_count": 32,
   "metadata": {},
   "outputs": [
    {
     "data": {
      "image/png": "[encoded data removed]",
      "text/plain": [
       "<matplotlib.figure.Figure at 0x18269def400>"
      ]
     },
     "metadata": {},
     "output_type": "display_data"
    }
   ],
   "source": [
    "plt.plot(df['Year'],df['Average Annual Pay'], color='blue', marker='o')\n",
    "\n",
    "plt.ylim([75000, 90000])\n",
    "plt.title('National Pay Growth Per Year')\n",
    "plt.xlabel('Year')\n",
    "plt.ylabel('Jobs Occupied that Year')\n",
    "plt.show()"
   ]
  },
  {
   "cell_type": "code",
   "execution_count": 33,
   "metadata": {},
   "outputs": [
    {
     "data": {
      "text/html": [
       "<div>\n",
       "<style>\n",
       "    .dataframe thead tr:only-child th {\n",
       "        text-align: right;\n",
       "    }\n",
       "\n",
       "    .dataframe thead th {\n",
       "        text-align: left;\n",
       "    }\n",
       "\n",
       "    .dataframe tbody tr th {\n",
       "        vertical-align: top;\n",
       "    }\n",
       "</style>\n",
       "<table border=\"1\" class=\"dataframe\">\n",
       "  <thead>\n",
       "    <tr style=\"text-align: right;\">\n",
       "      <th></th>\n",
       "      <th>33</th>\n",
       "    </tr>\n",
       "  </thead>\n",
       "  <tbody>\n",
       "    <tr>\n",
       "      <th>Average Pay_2013</th>\n",
       "      <td>71568.75</td>\n",
       "    </tr>\n",
       "    <tr>\n",
       "      <th>Average Pay_2014</th>\n",
       "      <td>71568.75</td>\n",
       "    </tr>\n",
       "    <tr>\n",
       "      <th>Average Pay_2015</th>\n",
       "      <td>71568.75</td>\n",
       "    </tr>\n",
       "    <tr>\n",
       "      <th>Average Pay_2016</th>\n",
       "      <td>71568.75</td>\n",
       "    </tr>\n",
       "    <tr>\n",
       "      <th>Average Pay_2017</th>\n",
       "      <td>71568.75</td>\n",
       "    </tr>\n",
       "    <tr>\n",
       "      <th>State</th>\n",
       "      <td>North Carolina</td>\n",
       "    </tr>\n",
       "  </tbody>\n",
       "</table>\n",
       "</div>"
      ],
      "text/plain": [
       "                              33\n",
       "Average Pay_2013        71568.75\n",
       "Average Pay_2014        71568.75\n",
       "Average Pay_2015        71568.75\n",
       "Average Pay_2016        71568.75\n",
       "Average Pay_2017        71568.75\n",
       "State             North Carolina"
      ]
     },
     "execution_count": 33,
     "metadata": {},
     "output_type": "execute_result"
    }
   ],
   "source": [
    "state_annual_avg_df\n",
    "\n",
    "sorted_df = state_annual_avg_df.nlargest(5, 'Average Pay_2017')\n",
    "sort_NC = pd.DataFrame(state_annual_avg_df.iloc[33])\n",
    "sort_NC"
   ]
  },
  {
   "cell_type": "code",
   "execution_count": 53,
   "metadata": {},
   "outputs": [
    {
     "name": "stderr",
     "output_type": "stream",
     "text": [
      "C:\\Users\\harna\\Anaconda3\\lib\\site-packages\\ipykernel_launcher.py:11: MatplotlibDeprecationWarning: The set_axis_bgcolor function was deprecated in version 2.0. Use set_facecolor instead.\n",
      "  # This is added back by InteractiveShellApp.init_path()\n"
     ]
    },
    {
     "data": {
      "image/png": "[encoded data removed]",
      "text/plain": [
       "<matplotlib.figure.Figure at 0x18269d88d30>"
      ]
     },
     "metadata": {},
     "output_type": "display_data"
    }
   ],
   "source": [
    "ax = plt.gca()\n",
    "plt.bar(sorted_df['State'], sorted_df['Average Pay_2017'], align='center', facecolor='darkslategray')\n",
    "plt.title('Top 5 States by Pay')\n",
    "plt.xlabel('State')\n",
    "plt.ylabel('Average Pay per Year ($)')\n",
    "ax.xaxis.label.set_color('white')\n",
    "ax.yaxis.label.set_color('white')\n",
    "ax.title.set_color('white')\n",
    "ax.tick_params(axis='x', colors='white')\n",
    "ax.tick_params(axis='y', colors='white')\n",
    "ax.set_axis_bgcolor('navy')\n",
    "plt.ylim(50000, 100000)\n",
    "plt.savefig('image.png', transparent=True)\n",
    "plt.show()"
   ]
  },
  {
   "cell_type": "code",
   "execution_count": 35,
   "metadata": {},
   "outputs": [
    {
     "data": {
      "text/html": [
       "<div>\n",
       "<style>\n",
       "    .dataframe thead tr:only-child th {\n",
       "        text-align: right;\n",
       "    }\n",
       "\n",
       "    .dataframe thead th {\n",
       "        text-align: left;\n",
       "    }\n",
       "\n",
       "    .dataframe tbody tr th {\n",
       "        vertical-align: top;\n",
       "    }\n",
       "</style>\n",
       "<table border=\"1\" class=\"dataframe\">\n",
       "  <thead>\n",
       "    <tr style=\"text-align: right;\">\n",
       "      <th></th>\n",
       "      <th>Average Pay_2013</th>\n",
       "      <th>Average Pay_2014</th>\n",
       "      <th>Average Pay_2015</th>\n",
       "      <th>Average Pay_2016</th>\n",
       "      <th>Average Pay_2017</th>\n",
       "      <th>State</th>\n",
       "    </tr>\n",
       "  </thead>\n",
       "  <tbody>\n",
       "    <tr>\n",
       "      <th>35</th>\n",
       "      <td>98665.56</td>\n",
       "      <td>98665.56</td>\n",
       "      <td>98665.56</td>\n",
       "      <td>98665.56</td>\n",
       "      <td>98665.56</td>\n",
       "      <td>Ohio</td>\n",
       "    </tr>\n",
       "    <tr>\n",
       "      <th>7</th>\n",
       "      <td>91683.33</td>\n",
       "      <td>91683.33</td>\n",
       "      <td>91683.33</td>\n",
       "      <td>91683.33</td>\n",
       "      <td>91683.33</td>\n",
       "      <td>Delaware</td>\n",
       "    </tr>\n",
       "    <tr>\n",
       "      <th>4</th>\n",
       "      <td>90648.89</td>\n",
       "      <td>90648.89</td>\n",
       "      <td>90648.89</td>\n",
       "      <td>90648.89</td>\n",
       "      <td>90648.89</td>\n",
       "      <td>California</td>\n",
       "    </tr>\n",
       "    <tr>\n",
       "      <th>32</th>\n",
       "      <td>90240.00</td>\n",
       "      <td>90240.00</td>\n",
       "      <td>90240.00</td>\n",
       "      <td>90240.00</td>\n",
       "      <td>90240.00</td>\n",
       "      <td>New York</td>\n",
       "    </tr>\n",
       "    <tr>\n",
       "      <th>47</th>\n",
       "      <td>89558.89</td>\n",
       "      <td>89558.89</td>\n",
       "      <td>89558.89</td>\n",
       "      <td>89558.89</td>\n",
       "      <td>89558.89</td>\n",
       "      <td>Washington</td>\n",
       "    </tr>\n",
       "  </tbody>\n",
       "</table>\n",
       "</div>"
      ],
      "text/plain": [
       "    Average Pay_2013  Average Pay_2014  Average Pay_2015  Average Pay_2016  \\\n",
       "35          98665.56          98665.56          98665.56          98665.56   \n",
       "7           91683.33          91683.33          91683.33          91683.33   \n",
       "4           90648.89          90648.89          90648.89          90648.89   \n",
       "32          90240.00          90240.00          90240.00          90240.00   \n",
       "47          89558.89          89558.89          89558.89          89558.89   \n",
       "\n",
       "    Average Pay_2017       State  \n",
       "35          98665.56        Ohio  \n",
       "7           91683.33    Delaware  \n",
       "4           90648.89  California  \n",
       "32          90240.00    New York  \n",
       "47          89558.89  Washington  "
      ]
     },
     "execution_count": 35,
     "metadata": {},
     "output_type": "execute_result"
    }
   ],
   "source": [
    "sorting_df = state_annual_avg_df.sort_values('Average Pay_2017', ascending=False)\n",
    "sorting_df.head()"
   ]
  },
  {
   "cell_type": "code",
   "execution_count": 36,
   "metadata": {
    "collapsed": true
   },
   "outputs": [],
   "source": [
    "worst_states = state_annual_avg_df.nsmallest(5, 'Average Pay_2017')"
   ]
  },
  {
   "cell_type": "code",
   "execution_count": 37,
   "metadata": {},
   "outputs": [
    {
     "data": {
      "image/png": "[encoded data removed]",
      "text/plain": [
       "<matplotlib.figure.Figure at 0x1826b1a7b38>"
      ]
     },
     "metadata": {},
     "output_type": "display_data"
    }
   ],
   "source": [
    "plt.bar(worst_states['State'], worst_states['Average Pay_2017'], align='center')\n",
    "plt.xticks(rotation=70)\n",
    "plt.title('Lowest 5 States by Pay')\n",
    "plt.xlabel('State')\n",
    "plt.ylabel('Average Pay per Year ($)')\n",
    "plt.show()"
   ]
  },
  {
   "cell_type": "code",
   "execution_count": 38,
   "metadata": {},
   "outputs": [
    {
     "data": {
      "image/png": "[encoded data removed]",
      "text/plain": [
       "<matplotlib.figure.Figure at 0x1826b1b3748>"
      ]
     },
     "metadata": {},
     "output_type": "display_data"
    }
   ],
   "source": [
    "large_comp = state_annual_avg_df.nlargest(20, 'Average Pay_2017')\n",
    "plt.figure(figsize=(15, 3))\n",
    "plt.bar(large_comp['State'], large_comp[\"Average Pay_2017\"], align='center', width=0.5, color='green')\n",
    "plt.title('Top 20 States by Pay')\n",
    "plt.xlabel('State')\n",
    "plt.ylabel('Average Pay per Year ($)')\n",
    "plt.xticks(rotation='vertical')\n",
    "#plt.ylim(50000, 100000)\n",
    "plt.show()"
   ]
  },
  {
   "cell_type": "code",
   "execution_count": 39,
   "metadata": {
    "scrolled": true
   },
   "outputs": [
    {
     "data": {
      "image/png": "[encoded data removed]",
      "text/plain": [
       "<matplotlib.figure.Figure at 0x1826b2a5400>"
      ]
     },
     "metadata": {},
     "output_type": "display_data"
    }
   ],
   "source": [
    "small_comp = state_annual_avg_df.nsmallest(20, 'Average Pay_2017')\n",
    "small_comp = small_comp.sort_values(['Average Pay_2017'], ascending=False)\n",
    "plt.figure(figsize=(15, 3))\n",
    "plt.bar(small_comp['State'], small_comp[\"Average Pay_2017\"], align='center', width=0.5, color='coral')\n",
    "plt.xticks(rotation='vertical')\n",
    "plt.title('Bottom 20 States by Pay')\n",
    "plt.xlabel('State')\n",
    "plt.ylabel('Average Pay per Year ($)')\n",
    "#plt.ylim(35000, 75000)\n",
    "plt.show()"
   ]
  },
  {
   "cell_type": "code",
   "execution_count": null,
   "metadata": {
    "collapsed": true
   },
   "outputs": [],
   "source": []
  }
 ],
 "metadata": {
  "kernelspec": {
   "display_name": "Python 3",
   "language": "python",
   "name": "python3"
  },
  "language_info": {
   "codemirror_mode": {
    "name": "ipython",
    "version": 3
   },
   "file_extension": ".py",
   "mimetype": "text/x-python",
   "name": "python",
   "nbconvert_exporter": "python",
   "pygments_lexer": "ipython3",
   "version": "3.6.3"
  }
 },
 "nbformat": 4,
 "nbformat_minor": 2
}
