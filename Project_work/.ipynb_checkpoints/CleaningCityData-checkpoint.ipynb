{
 "cells": [
  {
   "cell_type": "code",
   "execution_count": null,
   "metadata": {},
   "outputs": [],
   "source": [
    "import csv\n",
    "import os\n",
    "import pandas as pd\n",
    "import matplotlib.pyplot as plt"
   ]
  },
  {
   "cell_type": "code",
   "execution_count": null,
   "metadata": {},
   "outputs": [],
   "source": [
    "City_data_2013 = 'C:/Users/kouam/mini_project/Project_work/Raw_Data_City/City_data_2013.xlsx'\n",
    "City_data_2014 = 'C:/Users/kouam/mini_project/Project_work/Raw_Data_City/City_data_2014.xlsx'\n",
    "City_data_2015=  'C:/Users/kouam/mini_project/Project_work/Raw_Data_City/City_data_2015.xlsx'\n",
    "City_data_2016 = 'C:/Users/kouam/mini_project/Project_work/Raw_Data_City/City_data_2016.xlsx'\n",
    "City_data_2017 = 'C:/Users/kouam/mini_project/Project_work/Raw_Data_City/City_data_2017.xlsx'"
   ]
  },
  {
   "cell_type": "code",
   "execution_count": null,
   "metadata": {},
   "outputs": [],
   "source": [
    "City_2013_df = pd.read_excel(City_data_2013)\n",
    "City_2014_df = pd.read_excel(City_data_2014)\n",
    "City_2015_df = pd.read_excel(City_data_2015)\n",
    "City_2016_df = pd.read_excel(City_data_2016)\n",
    "City_2017_df = pd.read_excel(City_data_2017)"
   ]
  },
  {
   "cell_type": "code",
   "execution_count": null,
   "metadata": {},
   "outputs": [],
   "source": [
    "# City_2013_copy_df = City_2013_df.dropna(axis=1, how='all')\n",
    "# City_2014_copy_df = City_2014_df.dropna(axis=1, how='all')\n",
    "# City_2015_copy_df = City_2015_df.dropna(axis=1, how='all')\n",
    "# City_2016_copy_df = City_2016_df.dropna(axis=1, how='all')\n",
    "# City_2017_copy_df = City_2017_df.dropna(axis=1, how='all')"
   ]
  },
  {
   "cell_type": "code",
   "execution_count": null,
   "metadata": {},
   "outputs": [],
   "source": [
    "City_2013_copy_df = City_2013_df\n",
    "City_2014_copy_df = City_2014_df\n",
    "City_2015_copy_df = City_2015_df\n",
    "City_2016_copy_df = City_2016_df\n",
    "City_2017_copy_df = City_2017_df"
   ]
  },
  {
   "cell_type": "code",
   "execution_count": null,
   "metadata": {},
   "outputs": [],
   "source": [
    "City_2013_copy_df.fillna(0)\n",
    "City_2014_copy_df.fillna(0)\n",
    "City_2015_copy_df.fillna(0)\n",
    "City_2016_copy_df.fillna(0)\n",
    "City_2017_copy_df.fillna(0)"
   ]
  },
  {
   "cell_type": "code",
   "execution_count": null,
   "metadata": {},
   "outputs": [],
   "source": [
    "City_2013_copy_df['Year'] = '2013'\n",
    "City_2014_copy_df['Year'] = '2014'\n",
    "City_2015_copy_df['Year'] = '2015'\n",
    "City_2016_copy_df['Year'] = '2016'\n",
    "City_2017_copy_df['Year'] = '2017'"
   ]
  },
  {
   "cell_type": "code",
   "execution_count": null,
   "metadata": {},
   "outputs": [],
   "source": [
    "City_2013_copy_df.fillna(0)\n",
    "City_2014_copy_df.fillna(0)\n",
    "City_2015_copy_df.fillna(0)\n",
    "City_2015_copy_df.fillna(0)\n",
    "City_2017_copy_df.fillna(0)\n"
   ]
  },
  {
   "cell_type": "code",
   "execution_count": null,
   "metadata": {},
   "outputs": [],
   "source": [
    "City_2013_copy_df.replace(['#', '*'],[0.0, 0.0]) \n",
    "City_2014_copy_df.replace(['#', '*'],[0.0, 0.0])\n",
    "City_2015_copy_df.replace(['#', '*'],[0.0, 0.0]) \n",
    "City_2016_copy_df.replace(['#', '*'],[0.0, 0.0]) \n",
    "City_2017_copy_df.replace(['#', '*'],[0.0, 0.0]) \n",
    "                                                               "
   ]
  },
  {
   "cell_type": "code",
   "execution_count": null,
   "metadata": {},
   "outputs": [],
   "source": [
    "columns = ['ANNUAL', 'HOURLY']\n",
    "City_2013_copy_df.drop(columns, inplace=True, axis=1)\n",
    "City_2014_copy_df.drop(columns, inplace=True, axis=1)\n",
    "City_2015_copy_df.drop(columns, inplace=True, axis=1)\n",
    "City_2016_copy_df.drop(columns, inplace=True, axis=1)\n",
    "City_2017_copy_df.drop(columns, inplace=True, axis=1)\n",
    "City_2013_copy_df"
   ]
  },
  {
   "cell_type": "code",
   "execution_count": null,
   "metadata": {},
   "outputs": [],
   "source": [
    "#tot_city_emp_2017 = City_2017_copy_df.groupby([\"AREA_NAME\",\"Year\"], as_index=False)[\"TOT_EMP\"].sum()\n",
    "#tot_city_emp_2016 = City_2016_copy_df.groupby([\"AREA_NAME\",\"Year\"], as_index=False)[\"TOT_EMP\"].sum()\n",
    "#tot_city_emp_2015 = City_2015_copy_df.groupby([\"AREA_NAME\",\"Year\"], as_index=False)[\"TOT_EMP\"].sum()\n",
    "#tot_city_emp_2014 = City_2014_copy_df.groupby([\"AREA_NAME\",\"Year\"], as_index=False)[\"TOT_EMP\"].sum()\n",
    "tot_city_emp_2013 = City_2013_copy_df.groupby([\"AREA_NAME\"], as_index=False)[\"TOT_EMP\"].sum()\n",
    "\n",
    "#tot_city_emp_2013 = pd.DataFrame({'Tot_Employments':City_2013_copy_df.groupby(['AREA_NAME','Year'])['TOT_EMP'].sum()}).reset_index()\n",
    "\n",
    "\n",
    "total_city_emp_year = [tot_city_emp_2013]\n",
    "#total_city_emp_year = [tot_city_emp_2017,tot_city_emp_2016,tot_city_emp_2015,tot_city_emp_2014,tot_city_emp_2013]\n",
    "total_city_emp_year\n"
   ]
  },
  {
   "cell_type": "code",
   "execution_count": null,
   "metadata": {},
   "outputs": [],
   "source": [
    "pd.options.display.float_format = '{:.2f}'.format\n",
    "df_2013 = pd.DataFrame(total_city_emp_year, columns = [\"AREA_NAME\", \"TOT_EMP\"])\n",
    "\n",
    "df_2013"
   ]
  },
  {
   "cell_type": "code",
   "execution_count": null,
   "metadata": {},
   "outputs": [],
   "source": [
    "hour_mean_2017 = National_2017_copy_df[\"H_MEAN\"].mean()\n",
    "hour_mean_2016 = National_2016_copy_df[\"H_MEAN\"].mean()\n",
    "hour_mean_2015 = National_2015_copy_df[\"H_MEAN\"].mean()\n",
    "hour_mean_2014 = National_2014_copy_df[\"H_MEAN\"].mean()\n",
    "hour_mean_2013 = National_2013_copy_df[\"H_MEAN\"].mean()\n",
    "hourlypay_mean_year = [hour_mean_2017,hour_mean_2016,hour_mean_2015,hour_mean_2014,hour_mean_2013]"
   ]
  },
  {
   "cell_type": "code",
   "execution_count": null,
   "metadata": {},
   "outputs": [],
   "source": [
    "\\\n",
    "\n",
    "hourpct10_mean_2017 = National_2017_copy_df[\"H_PCT10\"].mean()\n",
    "hourpct10_mean_2016 = National_2016_copy_df[\"H_PCT10\"].mean()\n",
    "hourpct10_mean_2015 = National_2015_copy_df[\"H_PCT10\"].mean()\n",
    "hourpct10_mean_2014 = National_2014_copy_df[\"H_PCT10\"].mean()\n",
    "hourpct10_mean_2013 = National_2013_copy_df[\"H_PCT10\"].mean()\n",
    "hourpct10_mean_year = [hourpct10_mean_2017,hourpct10_mean_2016,hourpct10_mean_2015,hourpct10_mean_2014,hourpct10_mean_2013]"
   ]
  },
  {
   "cell_type": "code",
   "execution_count": null,
   "metadata": {},
   "outputs": [],
   "source": [
    "hourpct25_mean_2017 = National_2017_copy_df[\"H_PCT25\"].mean()\n",
    "hourpct25_mean_2016 = National_2016_copy_df[\"H_PCT25\"].mean()\n",
    "hourpct25_mean_2015 = National_2015_copy_df[\"H_PCT25\"].mean()\n",
    "hourpct25_mean_2014 = National_2014_copy_df[\"H_PCT25\"].mean()\n",
    "hourpct25_mean_2013 = National_2013_copy_df[\"H_PCT25\"].mean()\n",
    "hourpct25_mean_year = [hourpct25_mean_2017,hourpct25_mean_2016,hourpct25_mean_2015,hourpct25_mean_2014,hourpct25_mean_2013]\n"
   ]
  },
  {
   "cell_type": "code",
   "execution_count": null,
   "metadata": {},
   "outputs": [],
   "source": [
    "hourpct75_mean_2017 = National_2017_copy_df[\"H_PCT75\"].mean()\n",
    "hourpct75_mean_2016 = National_2016_copy_df[\"H_PCT75\"].mean()\n",
    "hourpct75_mean_2015 = National_2015_copy_df[\"H_PCT75\"].mean()\n",
    "hourpct75_mean_2014 = National_2014_copy_df[\"H_PCT75\"].mean()\n",
    "hourpct75_mean_2013 = National_2013_copy_df[\"H_PCT75\"].mean()\n",
    "hourpct75_mean_year = [hourpct75_mean_2017,hourpct75_mean_2016,hourpct75_mean_2015,hourpct75_mean_2014,hourpct75_mean_2013]\n"
   ]
  },
  {
   "cell_type": "code",
   "execution_count": null,
   "metadata": {},
   "outputs": [],
   "source": [
    "# hourpct90_mean_2017 = National_2017_copy_df[\"H_PCT90\"].mean()\n",
    "# hourpct90_mean_2016 = National_2016_copy_df[\"H_PCT90\"].mean()\n",
    "# hourpct90_mean_2015 = National_2015_copy_df[\"H_PCT90\"].mean()\n",
    "# hourpct90_mean_2014 = National_2014_copy_df[\"H_PCT90\"].mean()\n",
    "# hourpct90_mean_2013 = National_2013_copy_df[\"H_PCT90\"].mean()\n",
    "# hourpct90_mean_year = [hourpct90_mean_2017,hourpct90_mean_2016,hourpct90_mean_2015,hourpct90_mean_2014,hourpct90_mean_2013]\n"
   ]
  },
  {
   "cell_type": "code",
   "execution_count": null,
   "metadata": {},
   "outputs": [],
   "source": [
    "annual_mean_2017 = National_2017_copy_df[\"A_MEAN\"].mean()\n",
    "annual_mean_2016 = National_2016_copy_df[\"A_MEAN\"].mean()\n",
    "annual_mean_2015 = National_2015_copy_df[\"A_MEAN\"].mean()\n",
    "annual_mean_2014 = National_2014_copy_df[\"A_MEAN\"].mean()\n",
    "annual_mean_2013 = National_2013_copy_df[\"A_MEAN\"].mean()\n",
    "annualpay_mean_year = [annual_mean_2017,annual_mean_2016,annual_mean_2015,annual_mean_2014,annual_mean_2013]"
   ]
  },
  {
   "cell_type": "code",
   "execution_count": null,
   "metadata": {},
   "outputs": [],
   "source": [
    "annualpct10_mean_2017 = National_2017_copy_df[\"A_PCT10\"].mean()\n",
    "annualpct10_mean_2016 = National_2016_copy_df[\"A_PCT10\"].mean()\n",
    "annualpct10_mean_2015 = National_2015_copy_df[\"A_PCT10\"].mean()\n",
    "annualpct10_mean_2014 = National_2014_copy_df[\"A_PCT10\"].mean()\n",
    "annualpct10_mean_2013 = National_2013_copy_df[\"A_PCT10\"].mean()\n",
    "annualpct10_mean_year = [annualpct10_mean_2017,annualpct10_mean_2016,annualpct10_mean_2015,annualpct10_mean_2014,annualpct10_mean_2013]"
   ]
  },
  {
   "cell_type": "code",
   "execution_count": null,
   "metadata": {},
   "outputs": [],
   "source": [
    "annualpct10_mean_2017 = National_2017_copy_df[\"A_PCT10\"].mean()\n",
    "annualpct10_mean_2016 = National_2016_copy_df[\"A_PCT10\"].mean()\n",
    "annualpct10_mean_2015 = National_2015_copy_df[\"A_PCT10\"].mean()\n",
    "annualpct10_mean_2014 = National_2014_copy_df[\"A_PCT10\"].mean()\n",
    "annualpct10_mean_2013 = National_2013_copy_df[\"A_PCT10\"].mean()\n",
    "annualpct10_mean_year = [hourpct10_mean_2017,hourpct10_mean_2016,hourpct10_mean_2015,hourpct10_mean_2014,hourpct10_mean_2013]"
   ]
  },
  {
   "cell_type": "code",
   "execution_count": null,
   "metadata": {},
   "outputs": [],
   "source": [
    "annualpct25_mean_2017 = National_2017_copy_df[\"A_PCT25\"].mean()\n",
    "annualpct25_mean_2016 = National_2016_copy_df[\"A_PCT25\"].mean()\n",
    "annualpct25_mean_2015 = National_2015_copy_df[\"A_PCT25\"].mean()\n",
    "annualpct25_mean_2014 = National_2014_copy_df[\"A_PCT25\"].mean()\n",
    "annualpct25_mean_2013 = National_2013_copy_df[\"A_PCT25\"].mean()\n",
    "annualpct25_mean_year = [annualpct10_mean_2017,annualpct10_mean_2016,annualpct10_mean_2015,annualpct10_mean_2014,annualpct10_mean_2013]"
   ]
  },
  {
   "cell_type": "code",
   "execution_count": null,
   "metadata": {},
   "outputs": [],
   "source": [
    "annualpct75_mean_2017 = National_2017_copy_df[\"A_PCT75\"].mean()\n",
    "annualpct75_mean_2016 = National_2016_copy_df[\"A_PCT75\"].mean()\n",
    "annualpct75_mean_2015 = National_2015_copy_df[\"A_PCT75\"].mean()\n",
    "annualpct75_mean_2014 = National_2014_copy_df[\"A_PCT75\"].mean()\n",
    "annualpct75_mean_2013 = National_2013_copy_df[\"A_PCT75\"].mean()\n",
    "annualpct75_mean_year = [annualpct75_mean_2017,annualpct75_mean_2016,annualpct75_mean_2015,annualpct75_mean_2014,annualpct75_mean_2013]"
   ]
  },
  {
   "cell_type": "code",
   "execution_count": null,
   "metadata": {},
   "outputs": [],
   "source": [
    "# annualpct90_mean_2017 = National_2017_copy_df[\"A_PCT90\"].mean()\n",
    "# annualpct90_mean_2016 = National_2016_copy_df[\"A_PCT90\"].mean()\n",
    "# annualpct90_mean_2015 = National_2015_copy_df[\"A_PCT90\"].mean()\n",
    "# annualpct90_mean_2014 = National_2014_copy_df[\"A_PCT90\"].mean()\n",
    "# annualpct90_mean_2013 = National_2013_copy_df[\"A_PCT90\"].mean()\n",
    "# annualpct90_mean_year = [annualpct90_mean_2017,annualpct90_mean_2016,annualpct90_mean_2015,annualpct90_mean_2014,annualpct90_mean_2013]"
   ]
  },
  {
   "cell_type": "code",
   "execution_count": null,
   "metadata": {},
   "outputs": [],
   "source": [
    "pd.options.display.float_format = '{:.2f}'.format\n",
    "df = pd.DataFrame({\"Year\":[\"2017\",\"2016\",\"2015\",\"2014\",\"2013\"],\"Total_emp_year\":total_emp_year,\"Average Hourly Pay\":hourlypay_mean_year,\n",
    "                    \"Average Hourly Pct10\":hourpct10_mean_year,\n",
    "                    \"Average Hourly Pct25\":hourpct25_mean_year,\n",
    "                    \"Average Hourly Pct75\":hourpct75_mean_year,\n",
    "#                     \"Average Hourly Pct90\": hourpct90_mean_year,\n",
    "                   \"Average Annual Pay\":annualpay_mean_year,\n",
    "                    \"Average Annual Pct10\":annualpct10_mean_year,\n",
    "                    \"Average Annual Pct25\":annualpct25_mean_year,\n",
    "                    \"Average Annual Pct75\":annualpct75_mean_year\n",
    "                   #\"Average Hourly Pct90\": hourpct90_mean_year\n",
    "                  })\n",
    "df = df [[\"Year\", \"Total_emp_year\",\"Average Hourly Pay\",\"Average Annual Pay\",\"Average Hourly Pct10\",\"Average Hourly Pct25\",\"Average Hourly Pct75\",\n",
    "        \"Average Annual Pct10\",\"Average Annual Pct25\",\"Average Annual Pct75\"]]\n",
    "\n",
    "df"
   ]
  },
  {
   "cell_type": "code",
   "execution_count": null,
   "metadata": {},
   "outputs": [],
   "source": []
  }
 ],
 "metadata": {
  "kernelspec": {
   "display_name": "Python 3",
   "language": "python",
   "name": "python3"
  },
  "language_info": {
   "codemirror_mode": {
    "name": "ipython",
    "version": 3
   },
   "file_extension": ".py",
   "mimetype": "text/x-python",
   "name": "python",
   "nbconvert_exporter": "python",
   "pygments_lexer": "ipython3",
   "version": "3.6.4"
  }
 },
 "nbformat": 4,
 "nbformat_minor": 2
}
